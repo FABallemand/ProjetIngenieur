{
 "cells": [
  {
   "attachments": {},
   "cell_type": "markdown",
   "metadata": {},
   "source": [
    "# Data Augmentation"
   ]
  },
  {
   "cell_type": "code",
   "execution_count": 1,
   "metadata": {},
   "outputs": [],
   "source": [
    "import sys, os, logging\n",
    "import numpy as np\n",
    "import pandas as pd\n",
    "\n",
    "import matplotlib.pyplot as plt\n",
    "import plotly.graph_objects as go\n",
    "from plotly.subplots import make_subplots"
   ]
  },
  {
   "cell_type": "code",
   "execution_count": 2,
   "metadata": {},
   "outputs": [],
   "source": [
    "def single_graph(df):\n",
    "    fig = go.Figure()\n",
    "    for col in df.columns:\n",
    "      fig.add_trace(go.Scatter(x=df.index,y=df[col],name=col))\n",
    "    return fig\n",
    "\n",
    "def triple_graph(df):\n",
    "    col_num = 1\n",
    "    fig = make_subplots(rows=1, cols=3)\n",
    "    for col in df.columns:\n",
    "      fig.add_trace(go.Scatter(x=df.index,y=df[col],name=col), row=1, col=col_num)\n",
    "      col_num += 1\n",
    "    fig.update_layout(height=1080/2, width=1920/2, title_text=\"Test\")\n",
    "    return fig"
   ]
  },
  {
   "cell_type": "code",
   "execution_count": 3,
   "metadata": {},
   "outputs": [],
   "source": [
    "DATE = \"2023_04_14\"\n",
    "DATA_FOLDER = os.path.join(\"../data/android_app/\", DATE)\n",
    "\n",
    "DATA_FILES = [file for file in os.listdir(DATA_FOLDER) if os.path.isfile(os.path.join(DATA_FOLDER, file)) and\n",
    "              file.endswith(\".txt\") and\n",
    "              not (file.endswith(\"_r.txt\") or\n",
    "              file.endswith(\"_i.txt\") or\n",
    "              file.endswith(\"_ri.txt\") or\n",
    "              file.endswith(\"_n.txt\"))]\n",
    "REVERSED_DATA_FILES = [file for file in os.listdir(DATA_FOLDER) if os.path.isfile(os.path.join(DATA_FOLDER, file)) and\n",
    "                       file.endswith(\"_r.txt\")]\n",
    "INVERSED_DATA_FILES = [file for file in os.listdir(DATA_FOLDER) if os.path.isfile(os.path.join(DATA_FOLDER, file)) and\n",
    "                       file.endswith(\"_i.txt\")]\n",
    "REVERSED_INVERSED_DATA_FILES = [file for file in os.listdir(DATA_FOLDER) if os.path.isfile(os.path.join(DATA_FOLDER, file)) and\n",
    "                                file.endswith(\"_ri.txt\")]\n",
    "AUGMENTATION_FILES = [file for file in os.listdir(DATA_FOLDER) if os.path.isfile(os.path.join(DATA_FOLDER, file)) and\n",
    "              (file.endswith(\"_r.txt\") or\n",
    "              file.endswith(\"_i.txt\") or\n",
    "              file.endswith(\"_ri.txt\") or\n",
    "              file.endswith(\"_n.txt\"))]\n",
    "\n",
    "SEPARATOR = \";\""
   ]
  },
  {
   "cell_type": "code",
   "execution_count": 5,
   "metadata": {},
   "outputs": [],
   "source": [
    "for file in AUGMENTATION_FILES:\n",
    "    os.remove(os.path.join(DATA_FOLDER, file))"
   ]
  },
  {
   "cell_type": "code",
   "execution_count": null,
   "metadata": {},
   "outputs": [],
   "source": [
    "# Acceleration data\n",
    "data = pd.read_csv(os.path.join(DATA_FOLDER, DATA_FILES[0]), sep=SEPARATOR, header=1, names=[\"ay\", \"ax\", \"az\"])\n",
    "\n",
    "# acc_data = pd.read_csv(os.path.join(DATA_FOLDER, \"DATA\" + str(REC) + \".txt\"), sep=\";\", header=1, names=[\"t\", \"ax\", \"ay\", \"az\", \"loc\"])"
   ]
  },
  {
   "attachments": {},
   "cell_type": "markdown",
   "metadata": {},
   "source": [
    "## Revert Sequence"
   ]
  },
  {
   "cell_type": "code",
   "execution_count": null,
   "metadata": {},
   "outputs": [],
   "source": [
    "fig = single_graph(data[[\"ax\", \"ay\", \"az\"]])\n",
    "fig.show()"
   ]
  },
  {
   "cell_type": "code",
   "execution_count": null,
   "metadata": {},
   "outputs": [],
   "source": [
    "revert_data = data[::-1].reset_index(drop=True)"
   ]
  },
  {
   "cell_type": "code",
   "execution_count": null,
   "metadata": {},
   "outputs": [],
   "source": [
    "fig = single_graph(revert_data[[\"ax\", \"ay\", \"az\"]])\n",
    "fig.show()"
   ]
  },
  {
   "cell_type": "code",
   "execution_count": null,
   "metadata": {},
   "outputs": [],
   "source": [
    "def revertSequence(folder, file):\n",
    "    data = pd.read_csv(os.path.join(folder, file), sep=\";\", header=1, names=[\"ay\", \"ax\", \"az\"])\n",
    "    revert_data = data[::-1].reset_index(drop=True)\n",
    "    revert_data.to_csv(os.path.join(folder, file[:len(file)-4] + \"_r.txt\"), sep=\";\")"
   ]
  },
  {
   "cell_type": "code",
   "execution_count": null,
   "metadata": {},
   "outputs": [],
   "source": [
    "def revertSequences(folder):\n",
    "    for file in [file for file in os.listdir(DATA_FOLDER) if os.path.isfile(os.path.join(DATA_FOLDER, file)) and\n",
    "              file.endswith(\".txt\") and\n",
    "              not (file.endswith(\"_r.txt\") or\n",
    "              file.endswith(\"_i.txt\") or\n",
    "              file.endswith(\"_ri.txt\") or\n",
    "              file.endswith(\"_n.txt\"))]:\n",
    "        revertSequence(folder, file)"
   ]
  },
  {
   "cell_type": "code",
   "execution_count": null,
   "metadata": {},
   "outputs": [],
   "source": [
    "# Create files\n",
    "revertSequences(DATA_FOLDER)"
   ]
  },
  {
   "attachments": {},
   "cell_type": "markdown",
   "metadata": {},
   "source": [
    "## Invert X-axis"
   ]
  },
  {
   "cell_type": "code",
   "execution_count": null,
   "metadata": {},
   "outputs": [],
   "source": [
    "fig = single_graph(data[[\"ax\", \"ay\", \"az\"]])\n",
    "fig.show()"
   ]
  },
  {
   "cell_type": "code",
   "execution_count": null,
   "metadata": {},
   "outputs": [],
   "source": [
    "inverted_data = data\n",
    "inverted_data[\"ax\"] = inverted_data[\"ax\"].apply(lambda x: -x)"
   ]
  },
  {
   "cell_type": "code",
   "execution_count": null,
   "metadata": {},
   "outputs": [],
   "source": [
    "fig = single_graph(inverted_data[[\"ax\", \"ay\", \"az\"]])\n",
    "fig.show()"
   ]
  },
  {
   "cell_type": "code",
   "execution_count": null,
   "metadata": {},
   "outputs": [],
   "source": [
    "def invertSequenceX(folder, file):\n",
    "    data = pd.read_csv(os.path.join(folder, file), sep=\";\", header=1, names=[\"ay\", \"ax\", \"az\"])\n",
    "    data[\"ax\"] = data[\"ax\"].apply(lambda x: -x)\n",
    "    data.to_csv(os.path.join(folder, file[:len(file)-4] + \"_i.txt\"), sep=\";\")"
   ]
  },
  {
   "cell_type": "code",
   "execution_count": null,
   "metadata": {},
   "outputs": [],
   "source": [
    "def invertSequencesX(folder):\n",
    "    for file in [file for file in os.listdir(DATA_FOLDER) if os.path.isfile(os.path.join(DATA_FOLDER, file)) and\n",
    "              file.endswith(\".txt\") and\n",
    "              not (file.endswith(\"_r.txt\") or\n",
    "              file.endswith(\"_i.txt\") or\n",
    "              file.endswith(\"_ri.txt\") or\n",
    "              file.endswith(\"_n.txt\"))]:\n",
    "        invertSequenceX(folder, file)"
   ]
  },
  {
   "cell_type": "code",
   "execution_count": null,
   "metadata": {},
   "outputs": [],
   "source": [
    "# Create files\n",
    "invertSequencesX(DATA_FOLDER)"
   ]
  },
  {
   "attachments": {},
   "cell_type": "markdown",
   "metadata": {},
   "source": [
    "## Reverse Sequence and Invert X-Axis"
   ]
  },
  {
   "cell_type": "code",
   "execution_count": null,
   "metadata": {},
   "outputs": [],
   "source": [
    "def reverseInvertSequences(folder):\n",
    "    for file in [file for file in os.listdir(DATA_FOLDER) if os.path.isfile(os.path.join(DATA_FOLDER, file)) and\n",
    "              file.endswith(\".txt\") and\n",
    "              not (file.endswith(\"_r.txt\") or\n",
    "              file.endswith(\"_i.txt\") or\n",
    "              file.endswith(\"_ri.txt\") or\n",
    "              file.endswith(\"_n.txt\"))]:\n",
    "        data = pd.read_csv(os.path.join(folder, file), sep=\";\", header=1, names=[\"ay\", \"ax\", \"az\"])\n",
    "        data[\"ax\"] = data[\"ax\"].apply(lambda x: -x)\n",
    "        data = data[::-1].reset_index(drop=True)\n",
    "        data.to_csv(os.path.join(folder, file[:len(file)-4] + \"_ri.txt\"), sep=\";\")"
   ]
  },
  {
   "cell_type": "code",
   "execution_count": null,
   "metadata": {},
   "outputs": [],
   "source": [
    "# Create files\n",
    "reverseInvertSequences(DATA_FOLDER)"
   ]
  },
  {
   "attachments": {},
   "cell_type": "markdown",
   "metadata": {},
   "source": [
    "## Add Noise"
   ]
  },
  {
   "attachments": {},
   "cell_type": "markdown",
   "metadata": {},
   "source": [
    "### Hyperparameters : sigma = standard devitation (STD) of the noise"
   ]
  },
  {
   "cell_type": "code",
   "execution_count": null,
   "metadata": {},
   "outputs": [],
   "source": [
    "sigma = 0.1"
   ]
  },
  {
   "cell_type": "code",
   "execution_count": null,
   "metadata": {},
   "outputs": [],
   "source": [
    "def DA_Jitter(X, sigma):\n",
    "    myNoise = np.random.normal(loc=0, scale=sigma, size=X.shape)\n",
    "    return X+myNoise"
   ]
  },
  {
   "cell_type": "code",
   "execution_count": null,
   "metadata": {},
   "outputs": [],
   "source": [
    "def addNoise_1(folder, file):\n",
    "    data = pd.read_csv(os.path.join(folder, file), sep=\";\", header=1, names=[\"ay\", \"ax\", \"az\"])\n",
    "    noise = DA_Jitter(data,sigma)\n",
    "    noise.to_csv(os.path.join(folder, file[:len(file)-4] + \"_n.txt\"), sep=\";\")"
   ]
  },
  {
   "cell_type": "code",
   "execution_count": null,
   "metadata": {},
   "outputs": [],
   "source": [
    "def addNoise(folder):\n",
    "    for file in [file for file in os.listdir(folder) if os.path.isfile(os.path.join(folder, file)) and file.endswith(\".txt\")]:\n",
    "        addNoise_1(folder, file)"
   ]
  },
  {
   "cell_type": "code",
   "execution_count": null,
   "metadata": {},
   "outputs": [],
   "source": [
    "# Create files\n",
    "addNoise(DATA_FOLDER)"
   ]
  },
  {
   "cell_type": "code",
   "execution_count": null,
   "metadata": {},
   "outputs": [],
   "source": [
    "#Remove files\n",
    "for file in [file for file in os.listdir(DATA_FOLDER) if os.path.isfile(os.path.join(DATA_FOLDER, file)) and file.endswith(\"_n.txt\")]:\n",
    "     os.remove(os.path.join(DATA_FOLDER, file))"
   ]
  },
  {
   "cell_type": "code",
   "execution_count": null,
   "metadata": {},
   "outputs": [],
   "source": [
    "fig = single_graph(data[[\"ax\", \"ay\", \"az\"]])\n",
    "fig.show()"
   ]
  }
 ],
 "metadata": {
  "kernelspec": {
   "display_name": "base",
   "language": "python",
   "name": "python3"
  },
  "language_info": {
   "codemirror_mode": {
    "name": "ipython",
    "version": 3
   },
   "file_extension": ".py",
   "mimetype": "text/x-python",
   "name": "python",
   "nbconvert_exporter": "python",
   "pygments_lexer": "ipython3",
   "version": "3.9.12"
  },
  "orig_nbformat": 4
 },
 "nbformat": 4,
 "nbformat_minor": 2
}
