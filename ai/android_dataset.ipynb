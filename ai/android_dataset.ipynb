{
 "cells": [
  {
   "attachments": {},
   "cell_type": "markdown",
   "metadata": {},
   "source": [
    "# Create Dataframes from Data Collected with Android Application"
   ]
  },
  {
   "cell_type": "code",
   "execution_count": 1,
   "metadata": {},
   "outputs": [],
   "source": [
    "import sys, os, logging\n",
    "import numpy as np\n",
    "import pandas as pd\n",
    "\n",
    "import matplotlib.pyplot as plt"
   ]
  },
  {
   "cell_type": "code",
   "execution_count": 2,
   "metadata": {},
   "outputs": [],
   "source": [
    "DATE = \"2023_04_14\"\n",
    "DATA_FOLDER = os.path.join(\"../data/android_app/\", DATE)\n",
    "\n",
    "DATA_FILES = [file for file in os.listdir(DATA_FOLDER) if os.path.isfile(os.path.join(DATA_FOLDER, file)) and file.endswith(\".txt\")]\n",
    "\n",
    "SEPARATOR = \";\""
   ]
  },
  {
   "attachments": {},
   "cell_type": "markdown",
   "metadata": {},
   "source": [
    "## Create Acceleration Dataframe"
   ]
  },
  {
   "cell_type": "code",
   "execution_count": 3,
   "metadata": {},
   "outputs": [],
   "source": [
    "def dfFromFile(file):\n",
    "    \"\"\"\n",
    "    Create dataframe from a single file.\n",
    "\n",
    "    Args:\n",
    "        file (string): File name.\n",
    "\n",
    "    Returns:\n",
    "        pd.DataFrame: Dataframe corresponding to the file.\n",
    "    \"\"\"\n",
    "    df = pd.read_csv(file, sep=SEPARATOR, header=0, names=[\"ay\", \"ax\", \"az\"])\n",
    "    df[\"file\"] = os.path.basename(file)\n",
    "    df[\"index\"] = range(0, len(df))\n",
    "    df = df[[\"file\", \"index\", \"ax\", \"ay\", \"az\"]]\n",
    "    return df"
   ]
  },
  {
   "cell_type": "code",
   "execution_count": 4,
   "metadata": {},
   "outputs": [],
   "source": [
    "def dfFromFiles(folder, files=None):\n",
    "    \"\"\"\n",
    "    Create dataframe from multiple files.\n",
    "\n",
    "    Args:\n",
    "        folder (string): Folder where the files are located.\n",
    "        files (list, optional): List of files inside the folder. Defaults to None.\n",
    "\n",
    "    Returns:\n",
    "        pd.DataFrame: Dataframe corresponding to the files.\n",
    "    \"\"\"\n",
    "    if files == None:\n",
    "        files = [file for file in os.listdir(folder) if os.path.isfile(os.path.join(folder, file)) and file.endswith(\".txt\")]\n",
    "\n",
    "    try:\n",
    "        df = dfFromFile(os.path.join(folder, files[0]))\n",
    "        for file in files[1:]:\n",
    "            df_file = dfFromFile(os.path.join(folder, file))\n",
    "            df = pd.concat([df, df_file])\n",
    "        return df\n",
    "    except:\n",
    "        logging.error(\"Empty folder...\")\n",
    "        return None"
   ]
  },
  {
   "cell_type": "code",
   "execution_count": 5,
   "metadata": {},
   "outputs": [],
   "source": [
    "df = dfFromFiles(DATA_FOLDER)"
   ]
  },
  {
   "cell_type": "code",
   "execution_count": 6,
   "metadata": {},
   "outputs": [
    {
     "data": {
      "text/html": [
       "<div>\n",
       "<style scoped>\n",
       "    .dataframe tbody tr th:only-of-type {\n",
       "        vertical-align: middle;\n",
       "    }\n",
       "\n",
       "    .dataframe tbody tr th {\n",
       "        vertical-align: top;\n",
       "    }\n",
       "\n",
       "    .dataframe thead th {\n",
       "        text-align: right;\n",
       "    }\n",
       "</style>\n",
       "<table border=\"1\" class=\"dataframe\">\n",
       "  <thead>\n",
       "    <tr style=\"text-align: right;\">\n",
       "      <th></th>\n",
       "      <th>index</th>\n",
       "      <th>ax</th>\n",
       "      <th>ay</th>\n",
       "      <th>az</th>\n",
       "    </tr>\n",
       "  </thead>\n",
       "  <tbody>\n",
       "    <tr>\n",
       "      <th>count</th>\n",
       "      <td>229570.000000</td>\n",
       "      <td>229570.000000</td>\n",
       "      <td>229570.000000</td>\n",
       "      <td>229570.000000</td>\n",
       "    </tr>\n",
       "    <tr>\n",
       "      <th>mean</th>\n",
       "      <td>2109.043982</td>\n",
       "      <td>0.102450</td>\n",
       "      <td>0.294837</td>\n",
       "      <td>9.921677</td>\n",
       "    </tr>\n",
       "    <tr>\n",
       "      <th>std</th>\n",
       "      <td>1999.835536</td>\n",
       "      <td>1.302086</td>\n",
       "      <td>2.230282</td>\n",
       "      <td>2.601988</td>\n",
       "    </tr>\n",
       "    <tr>\n",
       "      <th>min</th>\n",
       "      <td>0.000000</td>\n",
       "      <td>-32.101456</td>\n",
       "      <td>-70.399110</td>\n",
       "      <td>-49.387592</td>\n",
       "    </tr>\n",
       "    <tr>\n",
       "      <th>25%</th>\n",
       "      <td>699.000000</td>\n",
       "      <td>-0.363919</td>\n",
       "      <td>-0.421380</td>\n",
       "      <td>9.174581</td>\n",
       "    </tr>\n",
       "    <tr>\n",
       "      <th>50%</th>\n",
       "      <td>1402.000000</td>\n",
       "      <td>0.124498</td>\n",
       "      <td>0.287304</td>\n",
       "      <td>9.883265</td>\n",
       "    </tr>\n",
       "    <tr>\n",
       "      <th>75%</th>\n",
       "      <td>2798.000000</td>\n",
       "      <td>0.612916</td>\n",
       "      <td>0.995988</td>\n",
       "      <td>10.716447</td>\n",
       "    </tr>\n",
       "    <tr>\n",
       "      <th>max</th>\n",
       "      <td>9487.000000</td>\n",
       "      <td>62.833430</td>\n",
       "      <td>56.541466</td>\n",
       "      <td>72.984850</td>\n",
       "    </tr>\n",
       "  </tbody>\n",
       "</table>\n",
       "</div>"
      ],
      "text/plain": [
       "               index             ax             ay             az\n",
       "count  229570.000000  229570.000000  229570.000000  229570.000000\n",
       "mean     2109.043982       0.102450       0.294837       9.921677\n",
       "std      1999.835536       1.302086       2.230282       2.601988\n",
       "min         0.000000     -32.101456     -70.399110     -49.387592\n",
       "25%       699.000000      -0.363919      -0.421380       9.174581\n",
       "50%      1402.000000       0.124498       0.287304       9.883265\n",
       "75%      2798.000000       0.612916       0.995988      10.716447\n",
       "max      9487.000000      62.833430      56.541466      72.984850"
      ]
     },
     "execution_count": 6,
     "metadata": {},
     "output_type": "execute_result"
    }
   ],
   "source": [
    "df.describe()"
   ]
  },
  {
   "cell_type": "code",
   "execution_count": 7,
   "metadata": {},
   "outputs": [
    {
     "data": {
      "text/html": [
       "<div>\n",
       "<style scoped>\n",
       "    .dataframe tbody tr th:only-of-type {\n",
       "        vertical-align: middle;\n",
       "    }\n",
       "\n",
       "    .dataframe tbody tr th {\n",
       "        vertical-align: top;\n",
       "    }\n",
       "\n",
       "    .dataframe thead th {\n",
       "        text-align: right;\n",
       "    }\n",
       "</style>\n",
       "<table border=\"1\" class=\"dataframe\">\n",
       "  <thead>\n",
       "    <tr style=\"text-align: right;\">\n",
       "      <th></th>\n",
       "      <th>file</th>\n",
       "      <th>index</th>\n",
       "      <th>ax</th>\n",
       "      <th>ay</th>\n",
       "      <th>az</th>\n",
       "    </tr>\n",
       "  </thead>\n",
       "  <tbody>\n",
       "    <tr>\n",
       "      <th>0</th>\n",
       "      <td>DATA43.txt</td>\n",
       "      <td>0</td>\n",
       "      <td>0.220267</td>\n",
       "      <td>0.172383</td>\n",
       "      <td>9.959879</td>\n",
       "    </tr>\n",
       "    <tr>\n",
       "      <th>1</th>\n",
       "      <td>DATA43.txt</td>\n",
       "      <td>1</td>\n",
       "      <td>0.181959</td>\n",
       "      <td>0.105345</td>\n",
       "      <td>10.046070</td>\n",
       "    </tr>\n",
       "    <tr>\n",
       "      <th>2</th>\n",
       "      <td>DATA43.txt</td>\n",
       "      <td>2</td>\n",
       "      <td>0.325611</td>\n",
       "      <td>0.220267</td>\n",
       "      <td>9.768343</td>\n",
       "    </tr>\n",
       "    <tr>\n",
       "      <th>3</th>\n",
       "      <td>DATA43.txt</td>\n",
       "      <td>3</td>\n",
       "      <td>0.277727</td>\n",
       "      <td>0.105345</td>\n",
       "      <td>9.787497</td>\n",
       "    </tr>\n",
       "    <tr>\n",
       "      <th>4</th>\n",
       "      <td>DATA43.txt</td>\n",
       "      <td>4</td>\n",
       "      <td>0.287304</td>\n",
       "      <td>0.220267</td>\n",
       "      <td>9.950302</td>\n",
       "    </tr>\n",
       "  </tbody>\n",
       "</table>\n",
       "</div>"
      ],
      "text/plain": [
       "         file  index        ax        ay         az\n",
       "0  DATA43.txt      0  0.220267  0.172383   9.959879\n",
       "1  DATA43.txt      1  0.181959  0.105345  10.046070\n",
       "2  DATA43.txt      2  0.325611  0.220267   9.768343\n",
       "3  DATA43.txt      3  0.277727  0.105345   9.787497\n",
       "4  DATA43.txt      4  0.287304  0.220267   9.950302"
      ]
     },
     "execution_count": 7,
     "metadata": {},
     "output_type": "execute_result"
    }
   ],
   "source": [
    "df.head()"
   ]
  },
  {
   "cell_type": "code",
   "execution_count": 8,
   "metadata": {},
   "outputs": [],
   "source": [
    "df.to_csv(os.path.join(DATA_FOLDER, DATE + \".csv\"), index=False)"
   ]
  },
  {
   "attachments": {},
   "cell_type": "markdown",
   "metadata": {},
   "source": [
    "## Create Label Dataframe"
   ]
  },
  {
   "cell_type": "code",
   "execution_count": 9,
   "metadata": {},
   "outputs": [],
   "source": [
    "def labelsFromFiles(folder):\n",
    "    with open(os.path.join(folder, os.path.basename(folder) + \".labels\"), \"w\") as labels:\n",
    "        labels.write(\"file, label\\n\")\n",
    "        files = [file for file in os.listdir(folder) if os.path.isfile(os.path.join(folder, file)) and file.endswith(\".txt\")]\n",
    "        # for file in files:\n",
    "        #     labels.write(file + \",\\n\")\n",
    "        for i in range(1, len(files)+1):\n",
    "            labels.write(\"DATA\" + str(i) + \".txt,\\n\")"
   ]
  },
  {
   "cell_type": "code",
   "execution_count": 10,
   "metadata": {},
   "outputs": [],
   "source": [
    "# labelsFromFiles(DATA_FOLDER)"
   ]
  }
 ],
 "metadata": {
  "kernelspec": {
   "display_name": "base",
   "language": "python",
   "name": "python3"
  },
  "language_info": {
   "codemirror_mode": {
    "name": "ipython",
    "version": 3
   },
   "file_extension": ".py",
   "mimetype": "text/x-python",
   "name": "python",
   "nbconvert_exporter": "python",
   "pygments_lexer": "ipython3",
   "version": "3.9.12"
  },
  "orig_nbformat": 4
 },
 "nbformat": 4,
 "nbformat_minor": 2
}
