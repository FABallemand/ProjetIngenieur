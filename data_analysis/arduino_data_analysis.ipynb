{
 "cells": [
  {
   "attachments": {},
   "cell_type": "markdown",
   "metadata": {},
   "source": [
    "# Data Analysis"
   ]
  },
  {
   "cell_type": "code",
   "execution_count": 14,
   "metadata": {},
   "outputs": [],
   "source": [
    "import os\n",
    "import numpy as np\n",
    "import pandas as pd\n",
    "\n",
    "from fitparse import FitFile\n",
    "import gpxpy\n",
    "import gpxpy.gpx\n",
    "\n",
    "import matplotlib.pyplot as plt\n",
    "import plotly.graph_objects as go\n",
    "from plotly.subplots import make_subplots\n",
    "import gmplot"
   ]
  },
  {
   "attachments": {},
   "cell_type": "markdown",
   "metadata": {},
   "source": [
    "## Load Data"
   ]
  },
  {
   "attachments": {},
   "cell_type": "markdown",
   "metadata": {},
   "source": [
    "### Arduino Device"
   ]
  },
  {
   "cell_type": "code",
   "execution_count": 15,
   "metadata": {},
   "outputs": [
    {
     "ename": "FileNotFoundError",
     "evalue": "[Errno 2] No such file or directory: '../data/arduino_device/2023_04_14/DATA51.TXT'",
     "output_type": "error",
     "traceback": [
      "\u001b[0;31m---------------------------------------------------------------------------\u001b[0m",
      "\u001b[0;31mFileNotFoundError\u001b[0m                         Traceback (most recent call last)",
      "\u001b[1;32m/home/fabien/TPS/2A/ProjetIngenieur/data_analysis/arduino_data_analysis.ipynb Cell 5\u001b[0m in \u001b[0;36m<cell line: 6>\u001b[0;34m()\u001b[0m\n\u001b[1;32m      <a href='vscode-notebook-cell:/home/fabien/TPS/2A/ProjetIngenieur/data_analysis/arduino_data_analysis.ipynb#W4sZmlsZQ%3D%3D?line=2'>3</a>\u001b[0m rec \u001b[39m=\u001b[39m \u001b[39m51\u001b[39m\n\u001b[1;32m      <a href='vscode-notebook-cell:/home/fabien/TPS/2A/ProjetIngenieur/data_analysis/arduino_data_analysis.ipynb#W4sZmlsZQ%3D%3D?line=4'>5</a>\u001b[0m \u001b[39m# Acceleration data\u001b[39;00m\n\u001b[0;32m----> <a href='vscode-notebook-cell:/home/fabien/TPS/2A/ProjetIngenieur/data_analysis/arduino_data_analysis.ipynb#W4sZmlsZQ%3D%3D?line=5'>6</a>\u001b[0m acc_data \u001b[39m=\u001b[39m pd\u001b[39m.\u001b[39;49mread_csv(os\u001b[39m.\u001b[39;49mpath\u001b[39m.\u001b[39;49mjoin(data_path, date, \u001b[39m\"\u001b[39;49m\u001b[39mDATA\u001b[39;49m\u001b[39m\"\u001b[39;49m \u001b[39m+\u001b[39;49m \u001b[39mstr\u001b[39;49m(rec) \u001b[39m+\u001b[39;49m \u001b[39m\"\u001b[39;49m\u001b[39m.TXT\u001b[39;49m\u001b[39m\"\u001b[39;49m), sep\u001b[39m=\u001b[39;49m\u001b[39m\"\u001b[39;49m\u001b[39m;\u001b[39;49m\u001b[39m\"\u001b[39;49m, header\u001b[39m=\u001b[39;49m\u001b[39m1\u001b[39;49m, names\u001b[39m=\u001b[39;49m[\u001b[39m\"\u001b[39;49m\u001b[39max\u001b[39;49m\u001b[39m\"\u001b[39;49m, \u001b[39m\"\u001b[39;49m\u001b[39may\u001b[39;49m\u001b[39m\"\u001b[39;49m, \u001b[39m\"\u001b[39;49m\u001b[39maz\u001b[39;49m\u001b[39m\"\u001b[39;49m])\n",
      "File \u001b[0;32m~/anaconda3/lib/python3.9/site-packages/pandas/util/_decorators.py:311\u001b[0m, in \u001b[0;36mdeprecate_nonkeyword_arguments.<locals>.decorate.<locals>.wrapper\u001b[0;34m(*args, **kwargs)\u001b[0m\n\u001b[1;32m    305\u001b[0m \u001b[39mif\u001b[39;00m \u001b[39mlen\u001b[39m(args) \u001b[39m>\u001b[39m num_allow_args:\n\u001b[1;32m    306\u001b[0m     warnings\u001b[39m.\u001b[39mwarn(\n\u001b[1;32m    307\u001b[0m         msg\u001b[39m.\u001b[39mformat(arguments\u001b[39m=\u001b[39marguments),\n\u001b[1;32m    308\u001b[0m         \u001b[39mFutureWarning\u001b[39;00m,\n\u001b[1;32m    309\u001b[0m         stacklevel\u001b[39m=\u001b[39mstacklevel,\n\u001b[1;32m    310\u001b[0m     )\n\u001b[0;32m--> 311\u001b[0m \u001b[39mreturn\u001b[39;00m func(\u001b[39m*\u001b[39;49margs, \u001b[39m*\u001b[39;49m\u001b[39m*\u001b[39;49mkwargs)\n",
      "File \u001b[0;32m~/anaconda3/lib/python3.9/site-packages/pandas/io/parsers/readers.py:680\u001b[0m, in \u001b[0;36mread_csv\u001b[0;34m(filepath_or_buffer, sep, delimiter, header, names, index_col, usecols, squeeze, prefix, mangle_dupe_cols, dtype, engine, converters, true_values, false_values, skipinitialspace, skiprows, skipfooter, nrows, na_values, keep_default_na, na_filter, verbose, skip_blank_lines, parse_dates, infer_datetime_format, keep_date_col, date_parser, dayfirst, cache_dates, iterator, chunksize, compression, thousands, decimal, lineterminator, quotechar, quoting, doublequote, escapechar, comment, encoding, encoding_errors, dialect, error_bad_lines, warn_bad_lines, on_bad_lines, delim_whitespace, low_memory, memory_map, float_precision, storage_options)\u001b[0m\n\u001b[1;32m    665\u001b[0m kwds_defaults \u001b[39m=\u001b[39m _refine_defaults_read(\n\u001b[1;32m    666\u001b[0m     dialect,\n\u001b[1;32m    667\u001b[0m     delimiter,\n\u001b[0;32m   (...)\u001b[0m\n\u001b[1;32m    676\u001b[0m     defaults\u001b[39m=\u001b[39m{\u001b[39m\"\u001b[39m\u001b[39mdelimiter\u001b[39m\u001b[39m\"\u001b[39m: \u001b[39m\"\u001b[39m\u001b[39m,\u001b[39m\u001b[39m\"\u001b[39m},\n\u001b[1;32m    677\u001b[0m )\n\u001b[1;32m    678\u001b[0m kwds\u001b[39m.\u001b[39mupdate(kwds_defaults)\n\u001b[0;32m--> 680\u001b[0m \u001b[39mreturn\u001b[39;00m _read(filepath_or_buffer, kwds)\n",
      "File \u001b[0;32m~/anaconda3/lib/python3.9/site-packages/pandas/io/parsers/readers.py:575\u001b[0m, in \u001b[0;36m_read\u001b[0;34m(filepath_or_buffer, kwds)\u001b[0m\n\u001b[1;32m    572\u001b[0m _validate_names(kwds\u001b[39m.\u001b[39mget(\u001b[39m\"\u001b[39m\u001b[39mnames\u001b[39m\u001b[39m\"\u001b[39m, \u001b[39mNone\u001b[39;00m))\n\u001b[1;32m    574\u001b[0m \u001b[39m# Create the parser.\u001b[39;00m\n\u001b[0;32m--> 575\u001b[0m parser \u001b[39m=\u001b[39m TextFileReader(filepath_or_buffer, \u001b[39m*\u001b[39;49m\u001b[39m*\u001b[39;49mkwds)\n\u001b[1;32m    577\u001b[0m \u001b[39mif\u001b[39;00m chunksize \u001b[39mor\u001b[39;00m iterator:\n\u001b[1;32m    578\u001b[0m     \u001b[39mreturn\u001b[39;00m parser\n",
      "File \u001b[0;32m~/anaconda3/lib/python3.9/site-packages/pandas/io/parsers/readers.py:933\u001b[0m, in \u001b[0;36mTextFileReader.__init__\u001b[0;34m(self, f, engine, **kwds)\u001b[0m\n\u001b[1;32m    930\u001b[0m     \u001b[39mself\u001b[39m\u001b[39m.\u001b[39moptions[\u001b[39m\"\u001b[39m\u001b[39mhas_index_names\u001b[39m\u001b[39m\"\u001b[39m] \u001b[39m=\u001b[39m kwds[\u001b[39m\"\u001b[39m\u001b[39mhas_index_names\u001b[39m\u001b[39m\"\u001b[39m]\n\u001b[1;32m    932\u001b[0m \u001b[39mself\u001b[39m\u001b[39m.\u001b[39mhandles: IOHandles \u001b[39m|\u001b[39m \u001b[39mNone\u001b[39;00m \u001b[39m=\u001b[39m \u001b[39mNone\u001b[39;00m\n\u001b[0;32m--> 933\u001b[0m \u001b[39mself\u001b[39m\u001b[39m.\u001b[39m_engine \u001b[39m=\u001b[39m \u001b[39mself\u001b[39;49m\u001b[39m.\u001b[39;49m_make_engine(f, \u001b[39mself\u001b[39;49m\u001b[39m.\u001b[39;49mengine)\n",
      "File \u001b[0;32m~/anaconda3/lib/python3.9/site-packages/pandas/io/parsers/readers.py:1217\u001b[0m, in \u001b[0;36mTextFileReader._make_engine\u001b[0;34m(self, f, engine)\u001b[0m\n\u001b[1;32m   1213\u001b[0m     mode \u001b[39m=\u001b[39m \u001b[39m\"\u001b[39m\u001b[39mrb\u001b[39m\u001b[39m\"\u001b[39m\n\u001b[1;32m   1214\u001b[0m \u001b[39m# error: No overload variant of \"get_handle\" matches argument types\u001b[39;00m\n\u001b[1;32m   1215\u001b[0m \u001b[39m# \"Union[str, PathLike[str], ReadCsvBuffer[bytes], ReadCsvBuffer[str]]\"\u001b[39;00m\n\u001b[1;32m   1216\u001b[0m \u001b[39m# , \"str\", \"bool\", \"Any\", \"Any\", \"Any\", \"Any\", \"Any\"\u001b[39;00m\n\u001b[0;32m-> 1217\u001b[0m \u001b[39mself\u001b[39m\u001b[39m.\u001b[39mhandles \u001b[39m=\u001b[39m get_handle(  \u001b[39m# type: ignore[call-overload]\u001b[39;49;00m\n\u001b[1;32m   1218\u001b[0m     f,\n\u001b[1;32m   1219\u001b[0m     mode,\n\u001b[1;32m   1220\u001b[0m     encoding\u001b[39m=\u001b[39;49m\u001b[39mself\u001b[39;49m\u001b[39m.\u001b[39;49moptions\u001b[39m.\u001b[39;49mget(\u001b[39m\"\u001b[39;49m\u001b[39mencoding\u001b[39;49m\u001b[39m\"\u001b[39;49m, \u001b[39mNone\u001b[39;49;00m),\n\u001b[1;32m   1221\u001b[0m     compression\u001b[39m=\u001b[39;49m\u001b[39mself\u001b[39;49m\u001b[39m.\u001b[39;49moptions\u001b[39m.\u001b[39;49mget(\u001b[39m\"\u001b[39;49m\u001b[39mcompression\u001b[39;49m\u001b[39m\"\u001b[39;49m, \u001b[39mNone\u001b[39;49;00m),\n\u001b[1;32m   1222\u001b[0m     memory_map\u001b[39m=\u001b[39;49m\u001b[39mself\u001b[39;49m\u001b[39m.\u001b[39;49moptions\u001b[39m.\u001b[39;49mget(\u001b[39m\"\u001b[39;49m\u001b[39mmemory_map\u001b[39;49m\u001b[39m\"\u001b[39;49m, \u001b[39mFalse\u001b[39;49;00m),\n\u001b[1;32m   1223\u001b[0m     is_text\u001b[39m=\u001b[39;49mis_text,\n\u001b[1;32m   1224\u001b[0m     errors\u001b[39m=\u001b[39;49m\u001b[39mself\u001b[39;49m\u001b[39m.\u001b[39;49moptions\u001b[39m.\u001b[39;49mget(\u001b[39m\"\u001b[39;49m\u001b[39mencoding_errors\u001b[39;49m\u001b[39m\"\u001b[39;49m, \u001b[39m\"\u001b[39;49m\u001b[39mstrict\u001b[39;49m\u001b[39m\"\u001b[39;49m),\n\u001b[1;32m   1225\u001b[0m     storage_options\u001b[39m=\u001b[39;49m\u001b[39mself\u001b[39;49m\u001b[39m.\u001b[39;49moptions\u001b[39m.\u001b[39;49mget(\u001b[39m\"\u001b[39;49m\u001b[39mstorage_options\u001b[39;49m\u001b[39m\"\u001b[39;49m, \u001b[39mNone\u001b[39;49;00m),\n\u001b[1;32m   1226\u001b[0m )\n\u001b[1;32m   1227\u001b[0m \u001b[39massert\u001b[39;00m \u001b[39mself\u001b[39m\u001b[39m.\u001b[39mhandles \u001b[39mis\u001b[39;00m \u001b[39mnot\u001b[39;00m \u001b[39mNone\u001b[39;00m\n\u001b[1;32m   1228\u001b[0m f \u001b[39m=\u001b[39m \u001b[39mself\u001b[39m\u001b[39m.\u001b[39mhandles\u001b[39m.\u001b[39mhandle\n",
      "File \u001b[0;32m~/anaconda3/lib/python3.9/site-packages/pandas/io/common.py:789\u001b[0m, in \u001b[0;36mget_handle\u001b[0;34m(path_or_buf, mode, encoding, compression, memory_map, is_text, errors, storage_options)\u001b[0m\n\u001b[1;32m    784\u001b[0m \u001b[39melif\u001b[39;00m \u001b[39misinstance\u001b[39m(handle, \u001b[39mstr\u001b[39m):\n\u001b[1;32m    785\u001b[0m     \u001b[39m# Check whether the filename is to be opened in binary mode.\u001b[39;00m\n\u001b[1;32m    786\u001b[0m     \u001b[39m# Binary mode does not support 'encoding' and 'newline'.\u001b[39;00m\n\u001b[1;32m    787\u001b[0m     \u001b[39mif\u001b[39;00m ioargs\u001b[39m.\u001b[39mencoding \u001b[39mand\u001b[39;00m \u001b[39m\"\u001b[39m\u001b[39mb\u001b[39m\u001b[39m\"\u001b[39m \u001b[39mnot\u001b[39;00m \u001b[39min\u001b[39;00m ioargs\u001b[39m.\u001b[39mmode:\n\u001b[1;32m    788\u001b[0m         \u001b[39m# Encoding\u001b[39;00m\n\u001b[0;32m--> 789\u001b[0m         handle \u001b[39m=\u001b[39m \u001b[39mopen\u001b[39;49m(\n\u001b[1;32m    790\u001b[0m             handle,\n\u001b[1;32m    791\u001b[0m             ioargs\u001b[39m.\u001b[39;49mmode,\n\u001b[1;32m    792\u001b[0m             encoding\u001b[39m=\u001b[39;49mioargs\u001b[39m.\u001b[39;49mencoding,\n\u001b[1;32m    793\u001b[0m             errors\u001b[39m=\u001b[39;49merrors,\n\u001b[1;32m    794\u001b[0m             newline\u001b[39m=\u001b[39;49m\u001b[39m\"\u001b[39;49m\u001b[39m\"\u001b[39;49m,\n\u001b[1;32m    795\u001b[0m         )\n\u001b[1;32m    796\u001b[0m     \u001b[39melse\u001b[39;00m:\n\u001b[1;32m    797\u001b[0m         \u001b[39m# Binary mode\u001b[39;00m\n\u001b[1;32m    798\u001b[0m         handle \u001b[39m=\u001b[39m \u001b[39mopen\u001b[39m(handle, ioargs\u001b[39m.\u001b[39mmode)\n",
      "\u001b[0;31mFileNotFoundError\u001b[0m: [Errno 2] No such file or directory: '../data/arduino_device/2023_04_14/DATA51.TXT'"
     ]
    }
   ],
   "source": [
    "data_path = \"../data/arduino_device/\"\n",
    "# date = \"2023_03_07\"\n",
    "date = \"2023_04_14\"\n",
    "rec = 11\n",
    "\n",
    "# Acceleration data\n",
    "acc_data = pd.read_csv(os.path.join(data_path, date, \"DATA\" + str(rec) + \".TXT\"), sep=\";\", header=1, names=[\"ax\", \"ay\", \"az\"])"
   ]
  },
  {
   "attachments": {},
   "cell_type": "markdown",
   "metadata": {},
   "source": [
    "## Acceleration Data"
   ]
  },
  {
   "cell_type": "code",
   "execution_count": null,
   "metadata": {},
   "outputs": [
    {
     "data": {
      "text/html": [
       "<div>\n",
       "<style scoped>\n",
       "    .dataframe tbody tr th:only-of-type {\n",
       "        vertical-align: middle;\n",
       "    }\n",
       "\n",
       "    .dataframe tbody tr th {\n",
       "        vertical-align: top;\n",
       "    }\n",
       "\n",
       "    .dataframe thead th {\n",
       "        text-align: right;\n",
       "    }\n",
       "</style>\n",
       "<table border=\"1\" class=\"dataframe\">\n",
       "  <thead>\n",
       "    <tr style=\"text-align: right;\">\n",
       "      <th></th>\n",
       "      <th>ax</th>\n",
       "      <th>ay</th>\n",
       "      <th>az</th>\n",
       "    </tr>\n",
       "  </thead>\n",
       "  <tbody>\n",
       "    <tr>\n",
       "      <th>0</th>\n",
       "      <td>0</td>\n",
       "      <td>4</td>\n",
       "      <td>-194</td>\n",
       "    </tr>\n",
       "    <tr>\n",
       "      <th>1</th>\n",
       "      <td>-3</td>\n",
       "      <td>-1</td>\n",
       "      <td>-193</td>\n",
       "    </tr>\n",
       "    <tr>\n",
       "      <th>2</th>\n",
       "      <td>-3</td>\n",
       "      <td>0</td>\n",
       "      <td>-189</td>\n",
       "    </tr>\n",
       "    <tr>\n",
       "      <th>3</th>\n",
       "      <td>3</td>\n",
       "      <td>1</td>\n",
       "      <td>-182</td>\n",
       "    </tr>\n",
       "    <tr>\n",
       "      <th>4</th>\n",
       "      <td>-5</td>\n",
       "      <td>3</td>\n",
       "      <td>-182</td>\n",
       "    </tr>\n",
       "    <tr>\n",
       "      <th>...</th>\n",
       "      <td>...</td>\n",
       "      <td>...</td>\n",
       "      <td>...</td>\n",
       "    </tr>\n",
       "    <tr>\n",
       "      <th>211</th>\n",
       "      <td>-49</td>\n",
       "      <td>69</td>\n",
       "      <td>-121</td>\n",
       "    </tr>\n",
       "    <tr>\n",
       "      <th>212</th>\n",
       "      <td>-23</td>\n",
       "      <td>75</td>\n",
       "      <td>-113</td>\n",
       "    </tr>\n",
       "    <tr>\n",
       "      <th>213</th>\n",
       "      <td>-29</td>\n",
       "      <td>66</td>\n",
       "      <td>-83</td>\n",
       "    </tr>\n",
       "    <tr>\n",
       "      <th>214</th>\n",
       "      <td>-38</td>\n",
       "      <td>52</td>\n",
       "      <td>-112</td>\n",
       "    </tr>\n",
       "    <tr>\n",
       "      <th>215</th>\n",
       "      <td>-46</td>\n",
       "      <td>55</td>\n",
       "      <td>-73</td>\n",
       "    </tr>\n",
       "  </tbody>\n",
       "</table>\n",
       "<p>216 rows × 3 columns</p>\n",
       "</div>"
      ],
      "text/plain": [
       "     ax  ay   az\n",
       "0     0   4 -194\n",
       "1    -3  -1 -193\n",
       "2    -3   0 -189\n",
       "3     3   1 -182\n",
       "4    -5   3 -182\n",
       "..   ..  ..  ...\n",
       "211 -49  69 -121\n",
       "212 -23  75 -113\n",
       "213 -29  66  -83\n",
       "214 -38  52 -112\n",
       "215 -46  55  -73\n",
       "\n",
       "[216 rows x 3 columns]"
      ]
     },
     "execution_count": 6,
     "metadata": {},
     "output_type": "execute_result"
    }
   ],
   "source": [
    "acc_data"
   ]
  },
  {
   "cell_type": "code",
   "execution_count": null,
   "metadata": {},
   "outputs": [],
   "source": [
    "# Convert to g ??\n",
    "acc_data = acc_data / 16384"
   ]
  },
  {
   "cell_type": "code",
   "execution_count": null,
   "metadata": {},
   "outputs": [
    {
     "data": {
      "text/html": [
       "<div>\n",
       "<style scoped>\n",
       "    .dataframe tbody tr th:only-of-type {\n",
       "        vertical-align: middle;\n",
       "    }\n",
       "\n",
       "    .dataframe tbody tr th {\n",
       "        vertical-align: top;\n",
       "    }\n",
       "\n",
       "    .dataframe thead th {\n",
       "        text-align: right;\n",
       "    }\n",
       "</style>\n",
       "<table border=\"1\" class=\"dataframe\">\n",
       "  <thead>\n",
       "    <tr style=\"text-align: right;\">\n",
       "      <th></th>\n",
       "      <th>ax</th>\n",
       "      <th>ay</th>\n",
       "      <th>az</th>\n",
       "    </tr>\n",
       "  </thead>\n",
       "  <tbody>\n",
       "    <tr>\n",
       "      <th>count</th>\n",
       "      <td>216.000000</td>\n",
       "      <td>216.000000</td>\n",
       "      <td>216.000000</td>\n",
       "    </tr>\n",
       "    <tr>\n",
       "      <th>mean</th>\n",
       "      <td>-0.000031</td>\n",
       "      <td>-0.000033</td>\n",
       "      <td>-0.008208</td>\n",
       "    </tr>\n",
       "    <tr>\n",
       "      <th>std</th>\n",
       "      <td>0.017484</td>\n",
       "      <td>0.025466</td>\n",
       "      <td>0.022987</td>\n",
       "    </tr>\n",
       "    <tr>\n",
       "      <th>min</th>\n",
       "      <td>-0.043884</td>\n",
       "      <td>-0.118164</td>\n",
       "      <td>-0.119812</td>\n",
       "    </tr>\n",
       "    <tr>\n",
       "      <th>25%</th>\n",
       "      <td>-0.008499</td>\n",
       "      <td>-0.010513</td>\n",
       "      <td>-0.013611</td>\n",
       "    </tr>\n",
       "    <tr>\n",
       "      <th>50%</th>\n",
       "      <td>-0.003296</td>\n",
       "      <td>0.004486</td>\n",
       "      <td>-0.008484</td>\n",
       "    </tr>\n",
       "    <tr>\n",
       "      <th>75%</th>\n",
       "      <td>0.006226</td>\n",
       "      <td>0.014297</td>\n",
       "      <td>-0.005844</td>\n",
       "    </tr>\n",
       "    <tr>\n",
       "      <th>max</th>\n",
       "      <td>0.066956</td>\n",
       "      <td>0.071960</td>\n",
       "      <td>0.184265</td>\n",
       "    </tr>\n",
       "  </tbody>\n",
       "</table>\n",
       "</div>"
      ],
      "text/plain": [
       "               ax          ay          az\n",
       "count  216.000000  216.000000  216.000000\n",
       "mean    -0.000031   -0.000033   -0.008208\n",
       "std      0.017484    0.025466    0.022987\n",
       "min     -0.043884   -0.118164   -0.119812\n",
       "25%     -0.008499   -0.010513   -0.013611\n",
       "50%     -0.003296    0.004486   -0.008484\n",
       "75%      0.006226    0.014297   -0.005844\n",
       "max      0.066956    0.071960    0.184265"
      ]
     },
     "execution_count": 8,
     "metadata": {},
     "output_type": "execute_result"
    }
   ],
   "source": [
    "acc_data.describe()"
   ]
  },
  {
   "cell_type": "code",
   "execution_count": null,
   "metadata": {},
   "outputs": [],
   "source": [
    "# acc_data.hist(column=\"ax\")"
   ]
  },
  {
   "cell_type": "code",
   "execution_count": null,
   "metadata": {},
   "outputs": [
    {
     "data": {
      "text/plain": [
       "ax    0\n",
       "ay    0\n",
       "az    0\n",
       "dtype: int64"
      ]
     },
     "execution_count": 9,
     "metadata": {},
     "output_type": "execute_result"
    }
   ],
   "source": [
    "acc_data.isna().sum()"
   ]
  },
  {
   "cell_type": "code",
   "execution_count": null,
   "metadata": {},
   "outputs": [
    {
     "data": {
      "text/plain": [
       "Text(0.5, 1.0, 'Acceleration Z')"
      ]
     },
     "execution_count": 10,
     "metadata": {},
     "output_type": "execute_result"
    },
    {
     "data": {
      "image/png": "[encoded data removed]",
      "text/plain": [
       "<Figure size 864x288 with 3 Axes>"
      ]
     },
     "metadata": {
      "needs_background": "light"
     },
     "output_type": "display_data"
    }
   ],
   "source": [
    "nb_measure = acc_data.shape[0]\n",
    "\n",
    "fig, axs = plt.subplots(1,3)\n",
    "fig.set_tight_layout(True)\n",
    "fig.set_size_inches(12, 4)\n",
    "axs[0].plot(range(nb_measure), acc_data[\"ax\"])\n",
    "axs[0].set_title(\"Acceleration X\")\n",
    "axs[1].plot(range(nb_measure), acc_data[\"ay\"])\n",
    "axs[1].set_title(\"Acceleration Y\")\n",
    "axs[2].plot(range(nb_measure), acc_data[\"az\"])\n",
    "axs[2].set_title(\"Acceleration Z\")"
   ]
  },
  {
   "cell_type": "code",
   "execution_count": null,
   "metadata": {},
   "outputs": [],
   "source": [
    "def singleGraph(df):\n",
    "    fig = go.Figure()\n",
    "    for col in df.columns:\n",
    "      fig.add_trace(go.Scatter(x=df.index,y=df[col],name=col))\n",
    "    return fig\n",
    "\n",
    "def tripleGraph(df):\n",
    "    col_num = 1\n",
    "    fig = make_subplots(rows=1, cols=3)\n",
    "    for col in df.columns:\n",
    "      fig.add_trace(go.Scatter(x=df.index,y=df[col],name=col), row=1, col=col_num)\n",
    "      col_num += 1\n",
    "    fig.update_layout(height=1080/2, width=1920/2, title_text=\"Test\")\n",
    "    return fig"
   ]
  },
  {
   "cell_type": "code",
   "execution_count": null,
   "metadata": {},
   "outputs": [
    {
     "data": {
      "application/vnd.plotly.v1+json": {
       "config": {
        "plotlyServerURL": "https://plot.ly"
       },
       "data": [
        {
         "name": "ax",
         "type": "scatter",
         "x": [
          0,
          1,
          2,
          3,
          4,
          5,
          6,
          7,
          8,
          9,
          10,
          11,
          12,
          13,
          14,
          15,
          16,
          17,
          18,
          19,
          20,
          21,
          22,
          23,
          24,
          25,
          26,
          27,
          28,
          29,
          30,
          31,
          32,
          33,
          34,
          35,
          36,
          37,
          38,
          39,
          40,
          41,
          42,
          43,
          44,
          45,
          46,
          47,
          48,
          49,
          50,
          51,
          52,
          53,
          54,
          55,
          56,
          57,
          58,
          59,
          60,
          61,
          62,
          63,
          64,
          65,
          66,
          67,
          68,
          69,
          70,
          71,
          72,
          73,
          74,
          75,
          76,
          77,
          78,
          79,
          80,
          81,
          82,
          83,
          84,
          85,
          86,
          87,
          88,
          89,
          90,
          91,
          92,
          93,
          94,
          95,
          96,
          97,
          98,
          99,
          100,
          101,
          102,
          103,
          104,
          105,
          106,
          107,
          108,
          109,
          110,
          111,
          112,
          113,
          114,
          115,
          116,
          117,
          118,
          119,
          120,
          121,
          122,
          123,
          124,
          125,
          126,
          127,
          128,
          129,
          130,
          131,
          132,
          133,
          134,
          135,
          136,
          137,
          138,
          139,
          140,
          141,
          142,
          143,
          144,
          145,
          146,
          147,
          148,
          149,
          150,
          151,
          152,
          153,
          154,
          155,
          156,
          157,
          158,
          159,
          160,
          161,
          162,
          163,
          164,
          165,
          166,
          167,
          168,
          169,
          170,
          171,
          172,
          173,
          174,
          175,
          176,
          177,
          178,
          179,
          180,
          181,
          182,
          183,
          184,
          185,
          186,
          187,
          188,
          189,
          190,
          191,
          192,
          193,
          194,
          195,
          196,
          197,
          198,
          199,
          200,
          201,
          202,
          203,
          204,
          205,
          206,
          207,
          208,
          209,
          210,
          211,
          212,
          213,
          214,
          215
         ],
         "y": [
          0,
          -0.00018310546875,
          -0.00018310546875,
          0.00018310546875,
          -0.00030517578125,
          0,
          -0.00006103515625,
          -0.00030517578125,
          -0.00042724609375,
          0,
          -0.00030517578125,
          -0.0001220703125,
          -0.0003662109375,
          -0.00067138671875,
          -0.00054931640625,
          -0.000244140625,
          -0.00018310546875,
          -0.00042724609375,
          -0.0006103515625,
          -0.0001220703125,
          0,
          -0.0001220703125,
          -0.00091552734375,
          -0.01446533203125,
          -0.028564453125,
          -0.0390625,
          -0.04388427734375,
          -0.0430908203125,
          -0.02557373046875,
          -0.0020751953125,
          -0.005859375,
          -0.01104736328125,
          -0.01898193359375,
          -0.02691650390625,
          -0.01434326171875,
          -0.0174560546875,
          -0.02935791015625,
          -0.02996826171875,
          -0.0078125,
          -0.004638671875,
          -0.01214599609375,
          -0.0059814453125,
          -0.01300048828125,
          -0.0291748046875,
          -0.0115966796875,
          -0.0194091796875,
          -0.012939453125,
          -0.0142822265625,
          0.00482177734375,
          0.0030517578125,
          -0.00616455078125,
          -0.02301025390625,
          -0.0157470703125,
          -0.00189208984375,
          -0.00750732421875,
          -0.008544921875,
          -0.02008056640625,
          -0.0238037109375,
          -0.004638671875,
          -0.0235595703125,
          -0.00244140625,
          0.0025634765625,
          0.016845703125,
          0.019287109375,
          0.01171875,
          0.03375244140625,
          0.0164794921875,
          0.00433349609375,
          0.018798828125,
          0.00848388671875,
          0.01031494140625,
          0.00421142578125,
          0.00616455078125,
          0.021484375,
          0.0067138671875,
          0.0107421875,
          0.00921630859375,
          0.0125732421875,
          0.017333984375,
          0.0006103515625,
          0.017578125,
          0.01385498046875,
          -0.0062255859375,
          0.0028076171875,
          0.031982421875,
          0.00372314453125,
          -0.00579833984375,
          0.00640869140625,
          0.0264892578125,
          -0.002197265625,
          -0.01190185546875,
          0.00830078125,
          0.001220703125,
          0.0023193359375,
          0.0635986328125,
          0.0419921875,
          -0.00823974609375,
          0.02093505859375,
          0.0450439453125,
          -0.0025634765625,
          -0.0072021484375,
          -0.00811767578125,
          -0.00067138671875,
          0.0106201171875,
          -0.0059814453125,
          0.00372314453125,
          -0.01043701171875,
          -0.01812744140625,
          -0.01458740234375,
          -0.00848388671875,
          -0.0125732421875,
          0.01678466796875,
          0.02618408203125,
          0.01263427734375,
          -0.00146484375,
          0.011962890625,
          0.00506591796875,
          0.0206298828125,
          0.02105712890625,
          0.02813720703125,
          0.06695556640625,
          0.05535888671875,
          0.05023193359375,
          0.0633544921875,
          0.0455322265625,
          0.01837158203125,
          0.00921630859375,
          0.02886962890625,
          0.03265380859375,
          0.01629638671875,
          0.038330078125,
          0.036865234375,
          0.015869140625,
          0.02587890625,
          0.028564453125,
          0.00897216796875,
          0.00811767578125,
          0.01947021484375,
          0.02923583984375,
          0.0155029296875,
          0.0123291015625,
          0.0091552734375,
          0.0010986328125,
          -0.00830078125,
          -0.0206298828125,
          -0.0235595703125,
          -0.01361083984375,
          -0.01806640625,
          -0.02154541015625,
          -0.01580810546875,
          -0.01513671875,
          -0.01788330078125,
          -0.0157470703125,
          -0.01300048828125,
          -0.01470947265625,
          -0.01446533203125,
          -0.01123046875,
          -0.01031494140625,
          -0.00946044921875,
          -0.00811767578125,
          -0.00799560546875,
          -0.0101318359375,
          -0.01068115234375,
          -0.01104736328125,
          -0.01141357421875,
          -0.01141357421875,
          -0.01055908203125,
          -0.009521484375,
          -0.00897216796875,
          -0.00830078125,
          -0.00836181640625,
          -0.00732421875,
          -0.00689697265625,
          -0.0069580078125,
          -0.00738525390625,
          -0.007568359375,
          -0.00787353515625,
          -0.00726318359375,
          -0.00701904296875,
          -0.00726318359375,
          -0.00653076171875,
          -0.00628662109375,
          -0.00640869140625,
          -0.0062255859375,
          -0.00567626953125,
          -0.005615234375,
          -0.00555419921875,
          -0.00531005859375,
          -0.00518798828125,
          -0.00518798828125,
          -0.00482177734375,
          -0.00506591796875,
          -0.00494384765625,
          -0.00445556640625,
          -0.00445556640625,
          -0.00390625,
          -0.00408935546875,
          -0.0040283203125,
          -0.00372314453125,
          -0.0040283203125,
          -0.0045166015625,
          -0.00396728515625,
          -0.0040283203125,
          -0.00341796875,
          -0.00311279296875,
          -0.00262451171875,
          -0.00341796875,
          -0.003173828125,
          -0.0030517578125,
          -0.003662109375,
          -0.00274658203125,
          -0.00299072265625,
          -0.00140380859375,
          -0.00177001953125,
          -0.0023193359375,
          -0.0028076171875
         ]
        },
        {
         "name": "ay",
         "type": "scatter",
         "x": [
          0,
          1,
          2,
          3,
          4,
          5,
          6,
          7,
          8,
          9,
          10,
          11,
          12,
          13,
          14,
          15,
          16,
          17,
          18,
          19,
          20,
          21,
          22,
          23,
          24,
          25,
          26,
          27,
          28,
          29,
          30,
          31,
          32,
          33,
          34,
          35,
          36,
          37,
          38,
          39,
          40,
          41,
          42,
          43,
          44,
          45,
          46,
          47,
          48,
          49,
          50,
          51,
          52,
          53,
          54,
          55,
          56,
          57,
          58,
          59,
          60,
          61,
          62,
          63,
          64,
          65,
          66,
          67,
          68,
          69,
          70,
          71,
          72,
          73,
          74,
          75,
          76,
          77,
          78,
          79,
          80,
          81,
          82,
          83,
          84,
          85,
          86,
          87,
          88,
          89,
          90,
          91,
          92,
          93,
          94,
          95,
          96,
          97,
          98,
          99,
          100,
          101,
          102,
          103,
          104,
          105,
          106,
          107,
          108,
          109,
          110,
          111,
          112,
          113,
          114,
          115,
          116,
          117,
          118,
          119,
          120,
          121,
          122,
          123,
          124,
          125,
          126,
          127,
          128,
          129,
          130,
          131,
          132,
          133,
          134,
          135,
          136,
          137,
          138,
          139,
          140,
          141,
          142,
          143,
          144,
          145,
          146,
          147,
          148,
          149,
          150,
          151,
          152,
          153,
          154,
          155,
          156,
          157,
          158,
          159,
          160,
          161,
          162,
          163,
          164,
          165,
          166,
          167,
          168,
          169,
          170,
          171,
          172,
          173,
          174,
          175,
          176,
          177,
          178,
          179,
          180,
          181,
          182,
          183,
          184,
          185,
          186,
          187,
          188,
          189,
          190,
          191,
          192,
          193,
          194,
          195,
          196,
          197,
          198,
          199,
          200,
          201,
          202,
          203,
          204,
          205,
          206,
          207,
          208,
          209,
          210,
          211,
          212,
          213,
          214,
          215
         ],
         "y": [
          0.000244140625,
          -0.00006103515625,
          0,
          0.00006103515625,
          0.00018310546875,
          0.00006103515625,
          0.000244140625,
          0.000244140625,
          0,
          -0.00030517578125,
          0,
          0.0001220703125,
          0.00006103515625,
          0.000244140625,
          0,
          0,
          -0.0003662109375,
          0,
          0.00018310546875,
          0.00030517578125,
          0.0001220703125,
          0.00006103515625,
          0.00360107421875,
          0.01776123046875,
          0.04010009765625,
          0.06207275390625,
          0.07196044921875,
          0.05657958984375,
          0.04534912109375,
          0.027587890625,
          0.01275634765625,
          0.0040283203125,
          0.0174560546875,
          0.03302001953125,
          0.0462646484375,
          0.0399169921875,
          0.0323486328125,
          0.02252197265625,
          0.01397705078125,
          0.0206298828125,
          0.020751953125,
          0.01806640625,
          0.02960205078125,
          0.02398681640625,
          0.02337646484375,
          0.041015625,
          0.02484130859375,
          0.0146484375,
          0.0146484375,
          0.024658203125,
          0.0108642578125,
          0.00543212890625,
          0.00921630859375,
          0.025634765625,
          0.02423095703125,
          0.00616455078125,
          0.01324462890625,
          0.018310546875,
          0.008056640625,
          0.02862548828125,
          0.0064697265625,
          -0.01019287109375,
          -0.02618408203125,
          -0.05084228515625,
          -0.03729248046875,
          -0.02532958984375,
          -0.0289306640625,
          -0.02545166015625,
          -0.03997802734375,
          -0.02020263671875,
          -0.00836181640625,
          -0.011474609375,
          -0.024658203125,
          -0.01239013671875,
          -0.00994873046875,
          -0.020263671875,
          -0.0150146484375,
          -0.00457763671875,
          -0.01580810546875,
          -0.0335693359375,
          0.001708984375,
          -0.009033203125,
          -0.019287109375,
          -0.00897216796875,
          0.00872802734375,
          -0.00616455078125,
          -0.013671875,
          -0.00592041015625,
          -0.00482177734375,
          -0.0032958984375,
          -0.0179443359375,
          -0.01214599609375,
          0.00848388671875,
          0.0035400390625,
          -0.05755615234375,
          -0.058837890625,
          -0.01910400390625,
          -0.011474609375,
          -0.019775390625,
          -0.01513671875,
          -0.005615234375,
          0.00408935546875,
          -0.00439453125,
          -0.01220703125,
          0.02301025390625,
          -0.0001220703125,
          0.00244140625,
          0.016845703125,
          -0.00732421875,
          -0.00750732421875,
          -0.01788330078125,
          -0.01812744140625,
          -0.01629638671875,
          -0.012451171875,
          -0.00347900390625,
          -0.0015869140625,
          0.00726318359375,
          -0.00457763671875,
          -0.0517578125,
          -0.06097412109375,
          -0.08111572265625,
          -0.1181640625,
          -0.093017578125,
          -0.0574951171875,
          -0.02642822265625,
          -0.03558349609375,
          -0.03485107421875,
          -0.02685546875,
          -0.04425048828125,
          -0.063232421875,
          -0.04815673828125,
          -0.05279541015625,
          -0.0521240234375,
          -0.04351806640625,
          -0.023681640625,
          -0.02386474609375,
          -0.04058837890625,
          -0.02923583984375,
          -0.03009033203125,
          -0.03692626953125,
          -0.0372314453125,
          -0.02978515625,
          0.0137939453125,
          0.029052734375,
          0.0233154296875,
          0.0274658203125,
          0.0328369140625,
          0.03021240234375,
          0.02667236328125,
          0.0286865234375,
          0.02734375,
          0.02471923828125,
          0.02423095703125,
          0.023681640625,
          0.0213623046875,
          0.0198974609375,
          0.01959228515625,
          0.0164794921875,
          0.01434326171875,
          0.01458740234375,
          0.0142822265625,
          0.01470947265625,
          0.01690673828125,
          0.0177001953125,
          0.01800537109375,
          0.017578125,
          0.0164794921875,
          0.01519775390625,
          0.0142822265625,
          0.01324462890625,
          0.01226806640625,
          0.01141357421875,
          0.01165771484375,
          0.0115966796875,
          0.0115966796875,
          0.01129150390625,
          0.01141357421875,
          0.0113525390625,
          0.01092529296875,
          0.0108642578125,
          0.00982666015625,
          0.00958251953125,
          0.00946044921875,
          0.0089111328125,
          0.00909423828125,
          0.0086669921875,
          0.0079345703125,
          0.00787353515625,
          0.00738525390625,
          0.00714111328125,
          0.007080078125,
          0.0067138671875,
          0.006591796875,
          0.0068359375,
          0.00634765625,
          0.00628662109375,
          0.00634765625,
          0.00628662109375,
          0.00531005859375,
          0.0062255859375,
          0.0059814453125,
          0.00543212890625,
          0.00482177734375,
          0.00457763671875,
          0.0047607421875,
          0.00439453125,
          0.004638671875,
          0.00482177734375,
          0.00439453125,
          0.0040283203125,
          0.00433349609375,
          0.00421142578125,
          0.00457763671875,
          0.0040283203125,
          0.003173828125,
          0.00335693359375
         ]
        },
        {
         "name": "az",
         "type": "scatter",
         "x": [
          0,
          1,
          2,
          3,
          4,
          5,
          6,
          7,
          8,
          9,
          10,
          11,
          12,
          13,
          14,
          15,
          16,
          17,
          18,
          19,
          20,
          21,
          22,
          23,
          24,
          25,
          26,
          27,
          28,
          29,
          30,
          31,
          32,
          33,
          34,
          35,
          36,
          37,
          38,
          39,
          40,
          41,
          42,
          43,
          44,
          45,
          46,
          47,
          48,
          49,
          50,
          51,
          52,
          53,
          54,
          55,
          56,
          57,
          58,
          59,
          60,
          61,
          62,
          63,
          64,
          65,
          66,
          67,
          68,
          69,
          70,
          71,
          72,
          73,
          74,
          75,
          76,
          77,
          78,
          79,
          80,
          81,
          82,
          83,
          84,
          85,
          86,
          87,
          88,
          89,
          90,
          91,
          92,
          93,
          94,
          95,
          96,
          97,
          98,
          99,
          100,
          101,
          102,
          103,
          104,
          105,
          106,
          107,
          108,
          109,
          110,
          111,
          112,
          113,
          114,
          115,
          116,
          117,
          118,
          119,
          120,
          121,
          122,
          123,
          124,
          125,
          126,
          127,
          128,
          129,
          130,
          131,
          132,
          133,
          134,
          135,
          136,
          137,
          138,
          139,
          140,
          141,
          142,
          143,
          144,
          145,
          146,
          147,
          148,
          149,
          150,
          151,
          152,
          153,
          154,
          155,
          156,
          157,
          158,
          159,
          160,
          161,
          162,
          163,
          164,
          165,
          166,
          167,
          168,
          169,
          170,
          171,
          172,
          173,
          174,
          175,
          176,
          177,
          178,
          179,
          180,
          181,
          182,
          183,
          184,
          185,
          186,
          187,
          188,
          189,
          190,
          191,
          192,
          193,
          194,
          195,
          196,
          197,
          198,
          199,
          200,
          201,
          202,
          203,
          204,
          205,
          206,
          207,
          208,
          209,
          210,
          211,
          212,
          213,
          214,
          215
         ],
         "y": [
          -0.0118408203125,
          -0.01177978515625,
          -0.01153564453125,
          -0.0111083984375,
          -0.0111083984375,
          -0.01025390625,
          -0.01055908203125,
          -0.010986328125,
          -0.01025390625,
          -0.0098876953125,
          -0.00994873046875,
          -0.0108642578125,
          -0.0107421875,
          -0.01129150390625,
          -0.01116943359375,
          -0.01068115234375,
          -0.0106201171875,
          -0.01031494140625,
          -0.0113525390625,
          -0.01165771484375,
          -0.01171875,
          -0.010986328125,
          -0.00799560546875,
          -0.00323486328125,
          -0.00079345703125,
          -0.012939453125,
          -0.01531982421875,
          -0.01025390625,
          -0.01458740234375,
          0.0067138671875,
          -0.0152587890625,
          -0.01031494140625,
          0.00384521484375,
          -0.0166015625,
          -0.0032958984375,
          -0.00177001953125,
          -0.00445556640625,
          -0.03460693359375,
          0.010498046875,
          0.01641845703125,
          -0.03472900390625,
          -0.0032958984375,
          0.0040283203125,
          -0.01507568359375,
          0.0155029296875,
          -0.02996826171875,
          -0.0111083984375,
          -0.004150390625,
          0.01116943359375,
          -0.016845703125,
          -0.009033203125,
          -0.00927734375,
          0.00823974609375,
          -0.01190185546875,
          -0.0146484375,
          0.021240234375,
          -0.02459716796875,
          -0.0406494140625,
          0.039306640625,
          -0.017822265625,
          -0.00531005859375,
          -0.021484375,
          -0.014892578125,
          0.00860595703125,
          -0.0242919921875,
          -0.0220947265625,
          -0.014892578125,
          -0.02056884765625,
          0.013427734375,
          -0.0118408203125,
          -0.02471923828125,
          -0.01556396484375,
          0.0029296875,
          0.00030517578125,
          -0.02081298828125,
          -0.01031494140625,
          -0.02252197265625,
          -0.015380859375,
          0.00970458984375,
          0.00653076171875,
          -0.04632568359375,
          -0.009033203125,
          0.0025634765625,
          -0.0194091796875,
          -0.0233154296875,
          -0.01654052734375,
          -0.015869140625,
          -0.00732421875,
          -0.00592041015625,
          -0.04266357421875,
          -0.025634765625,
          -0.009521484375,
          -0.04791259765625,
          -0.03521728515625,
          0.18426513671875,
          0.099853515625,
          -0.11981201171875,
          -0.0703125,
          0.0648193359375,
          0.023193359375,
          -0.05511474609375,
          -0.04541015625,
          0.01104736328125,
          -0.005126953125,
          0.019775390625,
          0.010009765625,
          -0.07037353515625,
          -0.02667236328125,
          0.05645751953125,
          -0.0045166015625,
          -0.05621337890625,
          0.01251220703125,
          0.02581787109375,
          -0.02178955078125,
          -0.03759765625,
          -0.0015869140625,
          -0.0137939453125,
          -0.020751953125,
          0.0037841796875,
          -0.0206298828125,
          -0.00042724609375,
          0.015625,
          -0.01544189453125,
          -0.01702880859375,
          -0.02117919921875,
          -0.009033203125,
          -0.00347900390625,
          -0.0174560546875,
          0.00164794921875,
          0.00164794921875,
          -0.01495361328125,
          0.00982666015625,
          -0.0135498046875,
          0.0126953125,
          -0.02508544921875,
          -0.020751953125,
          0.021240234375,
          -0.0240478515625,
          0.00189208984375,
          -0.0018310546875,
          -0.00677490234375,
          0.01165771484375,
          -0.01177978515625,
          -0.01806640625,
          -0.009521484375,
          -0.0107421875,
          -0.00994873046875,
          -0.0098876953125,
          -0.00982666015625,
          -0.00933837890625,
          -0.0091552734375,
          -0.00927734375,
          -0.0089111328125,
          -0.00933837890625,
          -0.00860595703125,
          -0.009033203125,
          -0.00830078125,
          -0.0081787109375,
          -0.00811767578125,
          -0.0076904296875,
          -0.0078125,
          -0.00775146484375,
          -0.00823974609375,
          -0.00726318359375,
          -0.0078125,
          -0.0081787109375,
          -0.00836181640625,
          -0.0079345703125,
          -0.00830078125,
          -0.007568359375,
          -0.008056640625,
          -0.0084228515625,
          -0.0086669921875,
          -0.0084228515625,
          -0.0079345703125,
          -0.0078125,
          -0.00823974609375,
          -0.00848388671875,
          -0.00726318359375,
          -0.0133056640625,
          -0.01007080078125,
          -0.00860595703125,
          -0.00872802734375,
          -0.00823974609375,
          -0.00787353515625,
          -0.0079345703125,
          -0.00836181640625,
          -0.00848388671875,
          -0.00823974609375,
          -0.00823974609375,
          -0.00836181640625,
          -0.00787353515625,
          -0.00665283203125,
          -0.006591796875,
          -0.006103515625,
          -0.00665283203125,
          -0.00653076171875,
          -0.006103515625,
          -0.0068359375,
          -0.00732421875,
          -0.0059814453125,
          -0.00689697265625,
          -0.0052490234375,
          -0.0059814453125,
          -0.005615234375,
          -0.00616455078125,
          -0.00665283203125,
          -0.00701904296875,
          -0.00665283203125,
          -0.00701904296875,
          -0.0072021484375,
          -0.00738525390625,
          -0.00689697265625,
          -0.00506591796875,
          -0.0068359375,
          -0.00445556640625
         ]
        }
       ],
       "layout": {
        "template": {
         "data": {
          "bar": [
           {
            "error_x": {
             "color": "#2a3f5f"
            },
            "error_y": {
             "color": "#2a3f5f"
            },
            "marker": {
             "line": {
              "color": "#E5ECF6",
              "width": 0.5
             },
             "pattern": {
              "fillmode": "overlay",
              "size": 10,
              "solidity": 0.2
             }
            },
            "type": "bar"
           }
          ],
          "barpolar": [
           {
            "marker": {
             "line": {
              "color": "#E5ECF6",
              "width": 0.5
             },
             "pattern": {
              "fillmode": "overlay",
              "size": 10,
              "solidity": 0.2
             }
            },
            "type": "barpolar"
           }
          ],
          "carpet": [
           {
            "aaxis": {
             "endlinecolor": "#2a3f5f",
             "gridcolor": "white",
             "linecolor": "white",
             "minorgridcolor": "white",
             "startlinecolor": "#2a3f5f"
            },
            "baxis": {
             "endlinecolor": "#2a3f5f",
             "gridcolor": "white",
             "linecolor": "white",
             "minorgridcolor": "white",
             "startlinecolor": "#2a3f5f"
            },
            "type": "carpet"
           }
          ],
          "choropleth": [
           {
            "colorbar": {
             "outlinewidth": 0,
             "ticks": ""
            },
            "type": "choropleth"
           }
          ],
          "contour": [
           {
            "colorbar": {
             "outlinewidth": 0,
             "ticks": ""
            },
            "colorscale": [
             [
              0,
              "#0d0887"
             ],
             [
              0.1111111111111111,
              "#46039f"
             ],
             [
              0.2222222222222222,
              "#7201a8"
             ],
             [
              0.3333333333333333,
              "#9c179e"
             ],
             [
              0.4444444444444444,
              "#bd3786"
             ],
             [
              0.5555555555555556,
              "#d8576b"
             ],
             [
              0.6666666666666666,
              "#ed7953"
             ],
             [
              0.7777777777777778,
              "#fb9f3a"
             ],
             [
              0.8888888888888888,
              "#fdca26"
             ],
             [
              1,
              "#f0f921"
             ]
            ],
            "type": "contour"
           }
          ],
          "contourcarpet": [
           {
            "colorbar": {
             "outlinewidth": 0,
             "ticks": ""
            },
            "type": "contourcarpet"
           }
          ],
          "heatmap": [
           {
            "colorbar": {
             "outlinewidth": 0,
             "ticks": ""
            },
            "colorscale": [
             [
              0,
              "#0d0887"
             ],
             [
              0.1111111111111111,
              "#46039f"
             ],
             [
              0.2222222222222222,
              "#7201a8"
             ],
             [
              0.3333333333333333,
              "#9c179e"
             ],
             [
              0.4444444444444444,
              "#bd3786"
             ],
             [
              0.5555555555555556,
              "#d8576b"
             ],
             [
              0.6666666666666666,
              "#ed7953"
             ],
             [
              0.7777777777777778,
              "#fb9f3a"
             ],
             [
              0.8888888888888888,
              "#fdca26"
             ],
             [
              1,
              "#f0f921"
             ]
            ],
            "type": "heatmap"
           }
          ],
          "heatmapgl": [
           {
            "colorbar": {
             "outlinewidth": 0,
             "ticks": ""
            },
            "colorscale": [
             [
              0,
              "#0d0887"
             ],
             [
              0.1111111111111111,
              "#46039f"
             ],
             [
              0.2222222222222222,
              "#7201a8"
             ],
             [
              0.3333333333333333,
              "#9c179e"
             ],
             [
              0.4444444444444444,
              "#bd3786"
             ],
             [
              0.5555555555555556,
              "#d8576b"
             ],
             [
              0.6666666666666666,
              "#ed7953"
             ],
             [
              0.7777777777777778,
              "#fb9f3a"
             ],
             [
              0.8888888888888888,
              "#fdca26"
             ],
             [
              1,
              "#f0f921"
             ]
            ],
            "type": "heatmapgl"
           }
          ],
          "histogram": [
           {
            "marker": {
             "pattern": {
              "fillmode": "overlay",
              "size": 10,
              "solidity": 0.2
             }
            },
            "type": "histogram"
           }
          ],
          "histogram2d": [
           {
            "colorbar": {
             "outlinewidth": 0,
             "ticks": ""
            },
            "colorscale": [
             [
              0,
              "#0d0887"
             ],
             [
              0.1111111111111111,
              "#46039f"
             ],
             [
              0.2222222222222222,
              "#7201a8"
             ],
             [
              0.3333333333333333,
              "#9c179e"
             ],
             [
              0.4444444444444444,
              "#bd3786"
             ],
             [
              0.5555555555555556,
              "#d8576b"
             ],
             [
              0.6666666666666666,
              "#ed7953"
             ],
             [
              0.7777777777777778,
              "#fb9f3a"
             ],
             [
              0.8888888888888888,
              "#fdca26"
             ],
             [
              1,
              "#f0f921"
             ]
            ],
            "type": "histogram2d"
           }
          ],
          "histogram2dcontour": [
           {
            "colorbar": {
             "outlinewidth": 0,
             "ticks": ""
            },
            "colorscale": [
             [
              0,
              "#0d0887"
             ],
             [
              0.1111111111111111,
              "#46039f"
             ],
             [
              0.2222222222222222,
              "#7201a8"
             ],
             [
              0.3333333333333333,
              "#9c179e"
             ],
             [
              0.4444444444444444,
              "#bd3786"
             ],
             [
              0.5555555555555556,
              "#d8576b"
             ],
             [
              0.6666666666666666,
              "#ed7953"
             ],
             [
              0.7777777777777778,
              "#fb9f3a"
             ],
             [
              0.8888888888888888,
              "#fdca26"
             ],
             [
              1,
              "#f0f921"
             ]
            ],
            "type": "histogram2dcontour"
           }
          ],
          "mesh3d": [
           {
            "colorbar": {
             "outlinewidth": 0,
             "ticks": ""
            },
            "type": "mesh3d"
           }
          ],
          "parcoords": [
           {
            "line": {
             "colorbar": {
              "outlinewidth": 0,
              "ticks": ""
             }
            },
            "type": "parcoords"
           }
          ],
          "pie": [
           {
            "automargin": true,
            "type": "pie"
           }
          ],
          "scatter": [
           {
            "marker": {
             "colorbar": {
              "outlinewidth": 0,
              "ticks": ""
             }
            },
            "type": "scatter"
           }
          ],
          "scatter3d": [
           {
            "line": {
             "colorbar": {
              "outlinewidth": 0,
              "ticks": ""
             }
            },
            "marker": {
             "colorbar": {
              "outlinewidth": 0,
              "ticks": ""
             }
            },
            "type": "scatter3d"
           }
          ],
          "scattercarpet": [
           {
            "marker": {
             "colorbar": {
              "outlinewidth": 0,
              "ticks": ""
             }
            },
            "type": "scattercarpet"
           }
          ],
          "scattergeo": [
           {
            "marker": {
             "colorbar": {
              "outlinewidth": 0,
              "ticks": ""
             }
            },
            "type": "scattergeo"
           }
          ],
          "scattergl": [
           {
            "marker": {
             "colorbar": {
              "outlinewidth": 0,
              "ticks": ""
             }
            },
            "type": "scattergl"
           }
          ],
          "scattermapbox": [
           {
            "marker": {
             "colorbar": {
              "outlinewidth": 0,
              "ticks": ""
             }
            },
            "type": "scattermapbox"
           }
          ],
          "scatterpolar": [
           {
            "marker": {
             "colorbar": {
              "outlinewidth": 0,
              "ticks": ""
             }
            },
            "type": "scatterpolar"
           }
          ],
          "scatterpolargl": [
           {
            "marker": {
             "colorbar": {
              "outlinewidth": 0,
              "ticks": ""
             }
            },
            "type": "scatterpolargl"
           }
          ],
          "scatterternary": [
           {
            "marker": {
             "colorbar": {
              "outlinewidth": 0,
              "ticks": ""
             }
            },
            "type": "scatterternary"
           }
          ],
          "surface": [
           {
            "colorbar": {
             "outlinewidth": 0,
             "ticks": ""
            },
            "colorscale": [
             [
              0,
              "#0d0887"
             ],
             [
              0.1111111111111111,
              "#46039f"
             ],
             [
              0.2222222222222222,
              "#7201a8"
             ],
             [
              0.3333333333333333,
              "#9c179e"
             ],
             [
              0.4444444444444444,
              "#bd3786"
             ],
             [
              0.5555555555555556,
              "#d8576b"
             ],
             [
              0.6666666666666666,
              "#ed7953"
             ],
             [
              0.7777777777777778,
              "#fb9f3a"
             ],
             [
              0.8888888888888888,
              "#fdca26"
             ],
             [
              1,
              "#f0f921"
             ]
            ],
            "type": "surface"
           }
          ],
          "table": [
           {
            "cells": {
             "fill": {
              "color": "#EBF0F8"
             },
             "line": {
              "color": "white"
             }
            },
            "header": {
             "fill": {
              "color": "#C8D4E3"
             },
             "line": {
              "color": "white"
             }
            },
            "type": "table"
           }
          ]
         },
         "layout": {
          "annotationdefaults": {
           "arrowcolor": "#2a3f5f",
           "arrowhead": 0,
           "arrowwidth": 1
          },
          "autotypenumbers": "strict",
          "coloraxis": {
           "colorbar": {
            "outlinewidth": 0,
            "ticks": ""
           }
          },
          "colorscale": {
           "diverging": [
            [
             0,
             "#8e0152"
            ],
            [
             0.1,
             "#c51b7d"
            ],
            [
             0.2,
             "#de77ae"
            ],
            [
             0.3,
             "#f1b6da"
            ],
            [
             0.4,
             "#fde0ef"
            ],
            [
             0.5,
             "#f7f7f7"
            ],
            [
             0.6,
             "#e6f5d0"
            ],
            [
             0.7,
             "#b8e186"
            ],
            [
             0.8,
             "#7fbc41"
            ],
            [
             0.9,
             "#4d9221"
            ],
            [
             1,
             "#276419"
            ]
           ],
           "sequential": [
            [
             0,
             "#0d0887"
            ],
            [
             0.1111111111111111,
             "#46039f"
            ],
            [
             0.2222222222222222,
             "#7201a8"
            ],
            [
             0.3333333333333333,
             "#9c179e"
            ],
            [
             0.4444444444444444,
             "#bd3786"
            ],
            [
             0.5555555555555556,
             "#d8576b"
            ],
            [
             0.6666666666666666,
             "#ed7953"
            ],
            [
             0.7777777777777778,
             "#fb9f3a"
            ],
            [
             0.8888888888888888,
             "#fdca26"
            ],
            [
             1,
             "#f0f921"
            ]
           ],
           "sequentialminus": [
            [
             0,
             "#0d0887"
            ],
            [
             0.1111111111111111,
             "#46039f"
            ],
            [
             0.2222222222222222,
             "#7201a8"
            ],
            [
             0.3333333333333333,
             "#9c179e"
            ],
            [
             0.4444444444444444,
             "#bd3786"
            ],
            [
             0.5555555555555556,
             "#d8576b"
            ],
            [
             0.6666666666666666,
             "#ed7953"
            ],
            [
             0.7777777777777778,
             "#fb9f3a"
            ],
            [
             0.8888888888888888,
             "#fdca26"
            ],
            [
             1,
             "#f0f921"
            ]
           ]
          },
          "colorway": [
           "#636efa",
           "#EF553B",
           "#00cc96",
           "#ab63fa",
           "#FFA15A",
           "#19d3f3",
           "#FF6692",
           "#B6E880",
           "#FF97FF",
           "#FECB52"
          ],
          "font": {
           "color": "#2a3f5f"
          },
          "geo": {
           "bgcolor": "white",
           "lakecolor": "white",
           "landcolor": "#E5ECF6",
           "showlakes": true,
           "showland": true,
           "subunitcolor": "white"
          },
          "hoverlabel": {
           "align": "left"
          },
          "hovermode": "closest",
          "mapbox": {
           "style": "light"
          },
          "paper_bgcolor": "white",
          "plot_bgcolor": "#E5ECF6",
          "polar": {
           "angularaxis": {
            "gridcolor": "white",
            "linecolor": "white",
            "ticks": ""
           },
           "bgcolor": "#E5ECF6",
           "radialaxis": {
            "gridcolor": "white",
            "linecolor": "white",
            "ticks": ""
           }
          },
          "scene": {
           "xaxis": {
            "backgroundcolor": "#E5ECF6",
            "gridcolor": "white",
            "gridwidth": 2,
            "linecolor": "white",
            "showbackground": true,
            "ticks": "",
            "zerolinecolor": "white"
           },
           "yaxis": {
            "backgroundcolor": "#E5ECF6",
            "gridcolor": "white",
            "gridwidth": 2,
            "linecolor": "white",
            "showbackground": true,
            "ticks": "",
            "zerolinecolor": "white"
           },
           "zaxis": {
            "backgroundcolor": "#E5ECF6",
            "gridcolor": "white",
            "gridwidth": 2,
            "linecolor": "white",
            "showbackground": true,
            "ticks": "",
            "zerolinecolor": "white"
           }
          },
          "shapedefaults": {
           "line": {
            "color": "#2a3f5f"
           }
          },
          "ternary": {
           "aaxis": {
            "gridcolor": "white",
            "linecolor": "white",
            "ticks": ""
           },
           "baxis": {
            "gridcolor": "white",
            "linecolor": "white",
            "ticks": ""
           },
           "bgcolor": "#E5ECF6",
           "caxis": {
            "gridcolor": "white",
            "linecolor": "white",
            "ticks": ""
           }
          },
          "title": {
           "x": 0.05
          },
          "xaxis": {
           "automargin": true,
           "gridcolor": "white",
           "linecolor": "white",
           "ticks": "",
           "title": {
            "standoff": 15
           },
           "zerolinecolor": "white",
           "zerolinewidth": 2
          },
          "yaxis": {
           "automargin": true,
           "gridcolor": "white",
           "linecolor": "white",
           "ticks": "",
           "title": {
            "standoff": 15
           },
           "zerolinecolor": "white",
           "zerolinewidth": 2
          }
         }
        }
       }
      }
     },
     "metadata": {},
     "output_type": "display_data"
    }
   ],
   "source": [
    "# fig = singleGraph(acc_data[[\"ax\", \"ay\", \"az\", \"norm\"]])\n",
    "fig = singleGraph(acc_data[[\"ax\", \"ay\", \"az\"]])\n",
    "fig.write_html(\"data_analysis_acc_1.html\", full_html=False, include_plotlyjs=\"cdn\")\n",
    "fig.show()"
   ]
  },
  {
   "cell_type": "code",
   "execution_count": null,
   "metadata": {},
   "outputs": [
    {
     "data": {
      "application/vnd.plotly.v1+json": {
       "config": {
        "plotlyServerURL": "https://plot.ly"
       },
       "data": [
        {
         "name": "ax",
         "type": "scatter",
         "x": [
          0,
          1,
          2,
          3,
          4,
          5,
          6,
          7,
          8,
          9,
          10,
          11,
          12,
          13,
          14,
          15,
          16,
          17,
          18,
          19,
          20,
          21,
          22,
          23,
          24,
          25,
          26,
          27,
          28,
          29,
          30,
          31,
          32,
          33,
          34,
          35,
          36,
          37,
          38,
          39,
          40,
          41,
          42,
          43,
          44,
          45,
          46,
          47,
          48,
          49,
          50,
          51,
          52,
          53,
          54,
          55,
          56,
          57,
          58,
          59,
          60,
          61,
          62,
          63,
          64,
          65,
          66,
          67,
          68,
          69,
          70,
          71,
          72,
          73,
          74,
          75,
          76,
          77,
          78,
          79,
          80,
          81,
          82,
          83,
          84,
          85,
          86,
          87,
          88,
          89,
          90,
          91,
          92,
          93,
          94,
          95,
          96,
          97,
          98,
          99,
          100,
          101,
          102,
          103,
          104,
          105,
          106,
          107,
          108,
          109,
          110,
          111,
          112,
          113,
          114,
          115,
          116,
          117,
          118,
          119,
          120,
          121,
          122,
          123,
          124,
          125,
          126,
          127,
          128,
          129,
          130,
          131,
          132,
          133,
          134,
          135,
          136,
          137,
          138,
          139,
          140,
          141,
          142,
          143,
          144,
          145,
          146,
          147,
          148,
          149,
          150,
          151,
          152,
          153,
          154,
          155,
          156,
          157,
          158,
          159,
          160,
          161,
          162,
          163,
          164,
          165,
          166,
          167,
          168,
          169,
          170,
          171,
          172,
          173,
          174,
          175,
          176,
          177,
          178,
          179,
          180,
          181,
          182,
          183,
          184,
          185,
          186,
          187,
          188,
          189,
          190,
          191,
          192,
          193,
          194,
          195,
          196,
          197,
          198,
          199,
          200,
          201,
          202,
          203,
          204,
          205,
          206,
          207,
          208,
          209,
          210,
          211,
          212,
          213,
          214,
          215
         ],
         "xaxis": "x",
         "y": [
          0,
          -0.00018310546875,
          -0.00018310546875,
          0.00018310546875,
          -0.00030517578125,
          0,
          -0.00006103515625,
          -0.00030517578125,
          -0.00042724609375,
          0,
          -0.00030517578125,
          -0.0001220703125,
          -0.0003662109375,
          -0.00067138671875,
          -0.00054931640625,
          -0.000244140625,
          -0.00018310546875,
          -0.00042724609375,
          -0.0006103515625,
          -0.0001220703125,
          0,
          -0.0001220703125,
          -0.00091552734375,
          -0.01446533203125,
          -0.028564453125,
          -0.0390625,
          -0.04388427734375,
          -0.0430908203125,
          -0.02557373046875,
          -0.0020751953125,
          -0.005859375,
          -0.01104736328125,
          -0.01898193359375,
          -0.02691650390625,
          -0.01434326171875,
          -0.0174560546875,
          -0.02935791015625,
          -0.02996826171875,
          -0.0078125,
          -0.004638671875,
          -0.01214599609375,
          -0.0059814453125,
          -0.01300048828125,
          -0.0291748046875,
          -0.0115966796875,
          -0.0194091796875,
          -0.012939453125,
          -0.0142822265625,
          0.00482177734375,
          0.0030517578125,
          -0.00616455078125,
          -0.02301025390625,
          -0.0157470703125,
          -0.00189208984375,
          -0.00750732421875,
          -0.008544921875,
          -0.02008056640625,
          -0.0238037109375,
          -0.004638671875,
          -0.0235595703125,
          -0.00244140625,
          0.0025634765625,
          0.016845703125,
          0.019287109375,
          0.01171875,
          0.03375244140625,
          0.0164794921875,
          0.00433349609375,
          0.018798828125,
          0.00848388671875,
          0.01031494140625,
          0.00421142578125,
          0.00616455078125,
          0.021484375,
          0.0067138671875,
          0.0107421875,
          0.00921630859375,
          0.0125732421875,
          0.017333984375,
          0.0006103515625,
          0.017578125,
          0.01385498046875,
          -0.0062255859375,
          0.0028076171875,
          0.031982421875,
          0.00372314453125,
          -0.00579833984375,
          0.00640869140625,
          0.0264892578125,
          -0.002197265625,
          -0.01190185546875,
          0.00830078125,
          0.001220703125,
          0.0023193359375,
          0.0635986328125,
          0.0419921875,
          -0.00823974609375,
          0.02093505859375,
          0.0450439453125,
          -0.0025634765625,
          -0.0072021484375,
          -0.00811767578125,
          -0.00067138671875,
          0.0106201171875,
          -0.0059814453125,
          0.00372314453125,
          -0.01043701171875,
          -0.01812744140625,
          -0.01458740234375,
          -0.00848388671875,
          -0.0125732421875,
          0.01678466796875,
          0.02618408203125,
          0.01263427734375,
          -0.00146484375,
          0.011962890625,
          0.00506591796875,
          0.0206298828125,
          0.02105712890625,
          0.02813720703125,
          0.06695556640625,
          0.05535888671875,
          0.05023193359375,
          0.0633544921875,
          0.0455322265625,
          0.01837158203125,
          0.00921630859375,
          0.02886962890625,
          0.03265380859375,
          0.01629638671875,
          0.038330078125,
          0.036865234375,
          0.015869140625,
          0.02587890625,
          0.028564453125,
          0.00897216796875,
          0.00811767578125,
          0.01947021484375,
          0.02923583984375,
          0.0155029296875,
          0.0123291015625,
          0.0091552734375,
          0.0010986328125,
          -0.00830078125,
          -0.0206298828125,
          -0.0235595703125,
          -0.01361083984375,
          -0.01806640625,
          -0.02154541015625,
          -0.01580810546875,
          -0.01513671875,
          -0.01788330078125,
          -0.0157470703125,
          -0.01300048828125,
          -0.01470947265625,
          -0.01446533203125,
          -0.01123046875,
          -0.01031494140625,
          -0.00946044921875,
          -0.00811767578125,
          -0.00799560546875,
          -0.0101318359375,
          -0.01068115234375,
          -0.01104736328125,
          -0.01141357421875,
          -0.01141357421875,
          -0.01055908203125,
          -0.009521484375,
          -0.00897216796875,
          -0.00830078125,
          -0.00836181640625,
          -0.00732421875,
          -0.00689697265625,
          -0.0069580078125,
          -0.00738525390625,
          -0.007568359375,
          -0.00787353515625,
          -0.00726318359375,
          -0.00701904296875,
          -0.00726318359375,
          -0.00653076171875,
          -0.00628662109375,
          -0.00640869140625,
          -0.0062255859375,
          -0.00567626953125,
          -0.005615234375,
          -0.00555419921875,
          -0.00531005859375,
          -0.00518798828125,
          -0.00518798828125,
          -0.00482177734375,
          -0.00506591796875,
          -0.00494384765625,
          -0.00445556640625,
          -0.00445556640625,
          -0.00390625,
          -0.00408935546875,
          -0.0040283203125,
          -0.00372314453125,
          -0.0040283203125,
          -0.0045166015625,
          -0.00396728515625,
          -0.0040283203125,
          -0.00341796875,
          -0.00311279296875,
          -0.00262451171875,
          -0.00341796875,
          -0.003173828125,
          -0.0030517578125,
          -0.003662109375,
          -0.00274658203125,
          -0.00299072265625,
          -0.00140380859375,
          -0.00177001953125,
          -0.0023193359375,
          -0.0028076171875
         ],
         "yaxis": "y"
        },
        {
         "name": "ay",
         "type": "scatter",
         "x": [
          0,
          1,
          2,
          3,
          4,
          5,
          6,
          7,
          8,
          9,
          10,
          11,
          12,
          13,
          14,
          15,
          16,
          17,
          18,
          19,
          20,
          21,
          22,
          23,
          24,
          25,
          26,
          27,
          28,
          29,
          30,
          31,
          32,
          33,
          34,
          35,
          36,
          37,
          38,
          39,
          40,
          41,
          42,
          43,
          44,
          45,
          46,
          47,
          48,
          49,
          50,
          51,
          52,
          53,
          54,
          55,
          56,
          57,
          58,
          59,
          60,
          61,
          62,
          63,
          64,
          65,
          66,
          67,
          68,
          69,
          70,
          71,
          72,
          73,
          74,
          75,
          76,
          77,
          78,
          79,
          80,
          81,
          82,
          83,
          84,
          85,
          86,
          87,
          88,
          89,
          90,
          91,
          92,
          93,
          94,
          95,
          96,
          97,
          98,
          99,
          100,
          101,
          102,
          103,
          104,
          105,
          106,
          107,
          108,
          109,
          110,
          111,
          112,
          113,
          114,
          115,
          116,
          117,
          118,
          119,
          120,
          121,
          122,
          123,
          124,
          125,
          126,
          127,
          128,
          129,
          130,
          131,
          132,
          133,
          134,
          135,
          136,
          137,
          138,
          139,
          140,
          141,
          142,
          143,
          144,
          145,
          146,
          147,
          148,
          149,
          150,
          151,
          152,
          153,
          154,
          155,
          156,
          157,
          158,
          159,
          160,
          161,
          162,
          163,
          164,
          165,
          166,
          167,
          168,
          169,
          170,
          171,
          172,
          173,
          174,
          175,
          176,
          177,
          178,
          179,
          180,
          181,
          182,
          183,
          184,
          185,
          186,
          187,
          188,
          189,
          190,
          191,
          192,
          193,
          194,
          195,
          196,
          197,
          198,
          199,
          200,
          201,
          202,
          203,
          204,
          205,
          206,
          207,
          208,
          209,
          210,
          211,
          212,
          213,
          214,
          215
         ],
         "xaxis": "x2",
         "y": [
          0.000244140625,
          -0.00006103515625,
          0,
          0.00006103515625,
          0.00018310546875,
          0.00006103515625,
          0.000244140625,
          0.000244140625,
          0,
          -0.00030517578125,
          0,
          0.0001220703125,
          0.00006103515625,
          0.000244140625,
          0,
          0,
          -0.0003662109375,
          0,
          0.00018310546875,
          0.00030517578125,
          0.0001220703125,
          0.00006103515625,
          0.00360107421875,
          0.01776123046875,
          0.04010009765625,
          0.06207275390625,
          0.07196044921875,
          0.05657958984375,
          0.04534912109375,
          0.027587890625,
          0.01275634765625,
          0.0040283203125,
          0.0174560546875,
          0.03302001953125,
          0.0462646484375,
          0.0399169921875,
          0.0323486328125,
          0.02252197265625,
          0.01397705078125,
          0.0206298828125,
          0.020751953125,
          0.01806640625,
          0.02960205078125,
          0.02398681640625,
          0.02337646484375,
          0.041015625,
          0.02484130859375,
          0.0146484375,
          0.0146484375,
          0.024658203125,
          0.0108642578125,
          0.00543212890625,
          0.00921630859375,
          0.025634765625,
          0.02423095703125,
          0.00616455078125,
          0.01324462890625,
          0.018310546875,
          0.008056640625,
          0.02862548828125,
          0.0064697265625,
          -0.01019287109375,
          -0.02618408203125,
          -0.05084228515625,
          -0.03729248046875,
          -0.02532958984375,
          -0.0289306640625,
          -0.02545166015625,
          -0.03997802734375,
          -0.02020263671875,
          -0.00836181640625,
          -0.011474609375,
          -0.024658203125,
          -0.01239013671875,
          -0.00994873046875,
          -0.020263671875,
          -0.0150146484375,
          -0.00457763671875,
          -0.01580810546875,
          -0.0335693359375,
          0.001708984375,
          -0.009033203125,
          -0.019287109375,
          -0.00897216796875,
          0.00872802734375,
          -0.00616455078125,
          -0.013671875,
          -0.00592041015625,
          -0.00482177734375,
          -0.0032958984375,
          -0.0179443359375,
          -0.01214599609375,
          0.00848388671875,
          0.0035400390625,
          -0.05755615234375,
          -0.058837890625,
          -0.01910400390625,
          -0.011474609375,
          -0.019775390625,
          -0.01513671875,
          -0.005615234375,
          0.00408935546875,
          -0.00439453125,
          -0.01220703125,
          0.02301025390625,
          -0.0001220703125,
          0.00244140625,
          0.016845703125,
          -0.00732421875,
          -0.00750732421875,
          -0.01788330078125,
          -0.01812744140625,
          -0.01629638671875,
          -0.012451171875,
          -0.00347900390625,
          -0.0015869140625,
          0.00726318359375,
          -0.00457763671875,
          -0.0517578125,
          -0.06097412109375,
          -0.08111572265625,
          -0.1181640625,
          -0.093017578125,
          -0.0574951171875,
          -0.02642822265625,
          -0.03558349609375,
          -0.03485107421875,
          -0.02685546875,
          -0.04425048828125,
          -0.063232421875,
          -0.04815673828125,
          -0.05279541015625,
          -0.0521240234375,
          -0.04351806640625,
          -0.023681640625,
          -0.02386474609375,
          -0.04058837890625,
          -0.02923583984375,
          -0.03009033203125,
          -0.03692626953125,
          -0.0372314453125,
          -0.02978515625,
          0.0137939453125,
          0.029052734375,
          0.0233154296875,
          0.0274658203125,
          0.0328369140625,
          0.03021240234375,
          0.02667236328125,
          0.0286865234375,
          0.02734375,
          0.02471923828125,
          0.02423095703125,
          0.023681640625,
          0.0213623046875,
          0.0198974609375,
          0.01959228515625,
          0.0164794921875,
          0.01434326171875,
          0.01458740234375,
          0.0142822265625,
          0.01470947265625,
          0.01690673828125,
          0.0177001953125,
          0.01800537109375,
          0.017578125,
          0.0164794921875,
          0.01519775390625,
          0.0142822265625,
          0.01324462890625,
          0.01226806640625,
          0.01141357421875,
          0.01165771484375,
          0.0115966796875,
          0.0115966796875,
          0.01129150390625,
          0.01141357421875,
          0.0113525390625,
          0.01092529296875,
          0.0108642578125,
          0.00982666015625,
          0.00958251953125,
          0.00946044921875,
          0.0089111328125,
          0.00909423828125,
          0.0086669921875,
          0.0079345703125,
          0.00787353515625,
          0.00738525390625,
          0.00714111328125,
          0.007080078125,
          0.0067138671875,
          0.006591796875,
          0.0068359375,
          0.00634765625,
          0.00628662109375,
          0.00634765625,
          0.00628662109375,
          0.00531005859375,
          0.0062255859375,
          0.0059814453125,
          0.00543212890625,
          0.00482177734375,
          0.00457763671875,
          0.0047607421875,
          0.00439453125,
          0.004638671875,
          0.00482177734375,
          0.00439453125,
          0.0040283203125,
          0.00433349609375,
          0.00421142578125,
          0.00457763671875,
          0.0040283203125,
          0.003173828125,
          0.00335693359375
         ],
         "yaxis": "y2"
        },
        {
         "name": "az",
         "type": "scatter",
         "x": [
          0,
          1,
          2,
          3,
          4,
          5,
          6,
          7,
          8,
          9,
          10,
          11,
          12,
          13,
          14,
          15,
          16,
          17,
          18,
          19,
          20,
          21,
          22,
          23,
          24,
          25,
          26,
          27,
          28,
          29,
          30,
          31,
          32,
          33,
          34,
          35,
          36,
          37,
          38,
          39,
          40,
          41,
          42,
          43,
          44,
          45,
          46,
          47,
          48,
          49,
          50,
          51,
          52,
          53,
          54,
          55,
          56,
          57,
          58,
          59,
          60,
          61,
          62,
          63,
          64,
          65,
          66,
          67,
          68,
          69,
          70,
          71,
          72,
          73,
          74,
          75,
          76,
          77,
          78,
          79,
          80,
          81,
          82,
          83,
          84,
          85,
          86,
          87,
          88,
          89,
          90,
          91,
          92,
          93,
          94,
          95,
          96,
          97,
          98,
          99,
          100,
          101,
          102,
          103,
          104,
          105,
          106,
          107,
          108,
          109,
          110,
          111,
          112,
          113,
          114,
          115,
          116,
          117,
          118,
          119,
          120,
          121,
          122,
          123,
          124,
          125,
          126,
          127,
          128,
          129,
          130,
          131,
          132,
          133,
          134,
          135,
          136,
          137,
          138,
          139,
          140,
          141,
          142,
          143,
          144,
          145,
          146,
          147,
          148,
          149,
          150,
          151,
          152,
          153,
          154,
          155,
          156,
          157,
          158,
          159,
          160,
          161,
          162,
          163,
          164,
          165,
          166,
          167,
          168,
          169,
          170,
          171,
          172,
          173,
          174,
          175,
          176,
          177,
          178,
          179,
          180,
          181,
          182,
          183,
          184,
          185,
          186,
          187,
          188,
          189,
          190,
          191,
          192,
          193,
          194,
          195,
          196,
          197,
          198,
          199,
          200,
          201,
          202,
          203,
          204,
          205,
          206,
          207,
          208,
          209,
          210,
          211,
          212,
          213,
          214,
          215
         ],
         "xaxis": "x3",
         "y": [
          -0.0118408203125,
          -0.01177978515625,
          -0.01153564453125,
          -0.0111083984375,
          -0.0111083984375,
          -0.01025390625,
          -0.01055908203125,
          -0.010986328125,
          -0.01025390625,
          -0.0098876953125,
          -0.00994873046875,
          -0.0108642578125,
          -0.0107421875,
          -0.01129150390625,
          -0.01116943359375,
          -0.01068115234375,
          -0.0106201171875,
          -0.01031494140625,
          -0.0113525390625,
          -0.01165771484375,
          -0.01171875,
          -0.010986328125,
          -0.00799560546875,
          -0.00323486328125,
          -0.00079345703125,
          -0.012939453125,
          -0.01531982421875,
          -0.01025390625,
          -0.01458740234375,
          0.0067138671875,
          -0.0152587890625,
          -0.01031494140625,
          0.00384521484375,
          -0.0166015625,
          -0.0032958984375,
          -0.00177001953125,
          -0.00445556640625,
          -0.03460693359375,
          0.010498046875,
          0.01641845703125,
          -0.03472900390625,
          -0.0032958984375,
          0.0040283203125,
          -0.01507568359375,
          0.0155029296875,
          -0.02996826171875,
          -0.0111083984375,
          -0.004150390625,
          0.01116943359375,
          -0.016845703125,
          -0.009033203125,
          -0.00927734375,
          0.00823974609375,
          -0.01190185546875,
          -0.0146484375,
          0.021240234375,
          -0.02459716796875,
          -0.0406494140625,
          0.039306640625,
          -0.017822265625,
          -0.00531005859375,
          -0.021484375,
          -0.014892578125,
          0.00860595703125,
          -0.0242919921875,
          -0.0220947265625,
          -0.014892578125,
          -0.02056884765625,
          0.013427734375,
          -0.0118408203125,
          -0.02471923828125,
          -0.01556396484375,
          0.0029296875,
          0.00030517578125,
          -0.02081298828125,
          -0.01031494140625,
          -0.02252197265625,
          -0.015380859375,
          0.00970458984375,
          0.00653076171875,
          -0.04632568359375,
          -0.009033203125,
          0.0025634765625,
          -0.0194091796875,
          -0.0233154296875,
          -0.01654052734375,
          -0.015869140625,
          -0.00732421875,
          -0.00592041015625,
          -0.04266357421875,
          -0.025634765625,
          -0.009521484375,
          -0.04791259765625,
          -0.03521728515625,
          0.18426513671875,
          0.099853515625,
          -0.11981201171875,
          -0.0703125,
          0.0648193359375,
          0.023193359375,
          -0.05511474609375,
          -0.04541015625,
          0.01104736328125,
          -0.005126953125,
          0.019775390625,
          0.010009765625,
          -0.07037353515625,
          -0.02667236328125,
          0.05645751953125,
          -0.0045166015625,
          -0.05621337890625,
          0.01251220703125,
          0.02581787109375,
          -0.02178955078125,
          -0.03759765625,
          -0.0015869140625,
          -0.0137939453125,
          -0.020751953125,
          0.0037841796875,
          -0.0206298828125,
          -0.00042724609375,
          0.015625,
          -0.01544189453125,
          -0.01702880859375,
          -0.02117919921875,
          -0.009033203125,
          -0.00347900390625,
          -0.0174560546875,
          0.00164794921875,
          0.00164794921875,
          -0.01495361328125,
          0.00982666015625,
          -0.0135498046875,
          0.0126953125,
          -0.02508544921875,
          -0.020751953125,
          0.021240234375,
          -0.0240478515625,
          0.00189208984375,
          -0.0018310546875,
          -0.00677490234375,
          0.01165771484375,
          -0.01177978515625,
          -0.01806640625,
          -0.009521484375,
          -0.0107421875,
          -0.00994873046875,
          -0.0098876953125,
          -0.00982666015625,
          -0.00933837890625,
          -0.0091552734375,
          -0.00927734375,
          -0.0089111328125,
          -0.00933837890625,
          -0.00860595703125,
          -0.009033203125,
          -0.00830078125,
          -0.0081787109375,
          -0.00811767578125,
          -0.0076904296875,
          -0.0078125,
          -0.00775146484375,
          -0.00823974609375,
          -0.00726318359375,
          -0.0078125,
          -0.0081787109375,
          -0.00836181640625,
          -0.0079345703125,
          -0.00830078125,
          -0.007568359375,
          -0.008056640625,
          -0.0084228515625,
          -0.0086669921875,
          -0.0084228515625,
          -0.0079345703125,
          -0.0078125,
          -0.00823974609375,
          -0.00848388671875,
          -0.00726318359375,
          -0.0133056640625,
          -0.01007080078125,
          -0.00860595703125,
          -0.00872802734375,
          -0.00823974609375,
          -0.00787353515625,
          -0.0079345703125,
          -0.00836181640625,
          -0.00848388671875,
          -0.00823974609375,
          -0.00823974609375,
          -0.00836181640625,
          -0.00787353515625,
          -0.00665283203125,
          -0.006591796875,
          -0.006103515625,
          -0.00665283203125,
          -0.00653076171875,
          -0.006103515625,
          -0.0068359375,
          -0.00732421875,
          -0.0059814453125,
          -0.00689697265625,
          -0.0052490234375,
          -0.0059814453125,
          -0.005615234375,
          -0.00616455078125,
          -0.00665283203125,
          -0.00701904296875,
          -0.00665283203125,
          -0.00701904296875,
          -0.0072021484375,
          -0.00738525390625,
          -0.00689697265625,
          -0.00506591796875,
          -0.0068359375,
          -0.00445556640625
         ],
         "yaxis": "y3"
        }
       ],
       "layout": {
        "height": 540,
        "template": {
         "data": {
          "bar": [
           {
            "error_x": {
             "color": "#2a3f5f"
            },
            "error_y": {
             "color": "#2a3f5f"
            },
            "marker": {
             "line": {
              "color": "#E5ECF6",
              "width": 0.5
             },
             "pattern": {
              "fillmode": "overlay",
              "size": 10,
              "solidity": 0.2
             }
            },
            "type": "bar"
           }
          ],
          "barpolar": [
           {
            "marker": {
             "line": {
              "color": "#E5ECF6",
              "width": 0.5
             },
             "pattern": {
              "fillmode": "overlay",
              "size": 10,
              "solidity": 0.2
             }
            },
            "type": "barpolar"
           }
          ],
          "carpet": [
           {
            "aaxis": {
             "endlinecolor": "#2a3f5f",
             "gridcolor": "white",
             "linecolor": "white",
             "minorgridcolor": "white",
             "startlinecolor": "#2a3f5f"
            },
            "baxis": {
             "endlinecolor": "#2a3f5f",
             "gridcolor": "white",
             "linecolor": "white",
             "minorgridcolor": "white",
             "startlinecolor": "#2a3f5f"
            },
            "type": "carpet"
           }
          ],
          "choropleth": [
           {
            "colorbar": {
             "outlinewidth": 0,
             "ticks": ""
            },
            "type": "choropleth"
           }
          ],
          "contour": [
           {
            "colorbar": {
             "outlinewidth": 0,
             "ticks": ""
            },
            "colorscale": [
             [
              0,
              "#0d0887"
             ],
             [
              0.1111111111111111,
              "#46039f"
             ],
             [
              0.2222222222222222,
              "#7201a8"
             ],
             [
              0.3333333333333333,
              "#9c179e"
             ],
             [
              0.4444444444444444,
              "#bd3786"
             ],
             [
              0.5555555555555556,
              "#d8576b"
             ],
             [
              0.6666666666666666,
              "#ed7953"
             ],
             [
              0.7777777777777778,
              "#fb9f3a"
             ],
             [
              0.8888888888888888,
              "#fdca26"
             ],
             [
              1,
              "#f0f921"
             ]
            ],
            "type": "contour"
           }
          ],
          "contourcarpet": [
           {
            "colorbar": {
             "outlinewidth": 0,
             "ticks": ""
            },
            "type": "contourcarpet"
           }
          ],
          "heatmap": [
           {
            "colorbar": {
             "outlinewidth": 0,
             "ticks": ""
            },
            "colorscale": [
             [
              0,
              "#0d0887"
             ],
             [
              0.1111111111111111,
              "#46039f"
             ],
             [
              0.2222222222222222,
              "#7201a8"
             ],
             [
              0.3333333333333333,
              "#9c179e"
             ],
             [
              0.4444444444444444,
              "#bd3786"
             ],
             [
              0.5555555555555556,
              "#d8576b"
             ],
             [
              0.6666666666666666,
              "#ed7953"
             ],
             [
              0.7777777777777778,
              "#fb9f3a"
             ],
             [
              0.8888888888888888,
              "#fdca26"
             ],
             [
              1,
              "#f0f921"
             ]
            ],
            "type": "heatmap"
           }
          ],
          "heatmapgl": [
           {
            "colorbar": {
             "outlinewidth": 0,
             "ticks": ""
            },
            "colorscale": [
             [
              0,
              "#0d0887"
             ],
             [
              0.1111111111111111,
              "#46039f"
             ],
             [
              0.2222222222222222,
              "#7201a8"
             ],
             [
              0.3333333333333333,
              "#9c179e"
             ],
             [
              0.4444444444444444,
              "#bd3786"
             ],
             [
              0.5555555555555556,
              "#d8576b"
             ],
             [
              0.6666666666666666,
              "#ed7953"
             ],
             [
              0.7777777777777778,
              "#fb9f3a"
             ],
             [
              0.8888888888888888,
              "#fdca26"
             ],
             [
              1,
              "#f0f921"
             ]
            ],
            "type": "heatmapgl"
           }
          ],
          "histogram": [
           {
            "marker": {
             "pattern": {
              "fillmode": "overlay",
              "size": 10,
              "solidity": 0.2
             }
            },
            "type": "histogram"
           }
          ],
          "histogram2d": [
           {
            "colorbar": {
             "outlinewidth": 0,
             "ticks": ""
            },
            "colorscale": [
             [
              0,
              "#0d0887"
             ],
             [
              0.1111111111111111,
              "#46039f"
             ],
             [
              0.2222222222222222,
              "#7201a8"
             ],
             [
              0.3333333333333333,
              "#9c179e"
             ],
             [
              0.4444444444444444,
              "#bd3786"
             ],
             [
              0.5555555555555556,
              "#d8576b"
             ],
             [
              0.6666666666666666,
              "#ed7953"
             ],
             [
              0.7777777777777778,
              "#fb9f3a"
             ],
             [
              0.8888888888888888,
              "#fdca26"
             ],
             [
              1,
              "#f0f921"
             ]
            ],
            "type": "histogram2d"
           }
          ],
          "histogram2dcontour": [
           {
            "colorbar": {
             "outlinewidth": 0,
             "ticks": ""
            },
            "colorscale": [
             [
              0,
              "#0d0887"
             ],
             [
              0.1111111111111111,
              "#46039f"
             ],
             [
              0.2222222222222222,
              "#7201a8"
             ],
             [
              0.3333333333333333,
              "#9c179e"
             ],
             [
              0.4444444444444444,
              "#bd3786"
             ],
             [
              0.5555555555555556,
              "#d8576b"
             ],
             [
              0.6666666666666666,
              "#ed7953"
             ],
             [
              0.7777777777777778,
              "#fb9f3a"
             ],
             [
              0.8888888888888888,
              "#fdca26"
             ],
             [
              1,
              "#f0f921"
             ]
            ],
            "type": "histogram2dcontour"
           }
          ],
          "mesh3d": [
           {
            "colorbar": {
             "outlinewidth": 0,
             "ticks": ""
            },
            "type": "mesh3d"
           }
          ],
          "parcoords": [
           {
            "line": {
             "colorbar": {
              "outlinewidth": 0,
              "ticks": ""
             }
            },
            "type": "parcoords"
           }
          ],
          "pie": [
           {
            "automargin": true,
            "type": "pie"
           }
          ],
          "scatter": [
           {
            "marker": {
             "colorbar": {
              "outlinewidth": 0,
              "ticks": ""
             }
            },
            "type": "scatter"
           }
          ],
          "scatter3d": [
           {
            "line": {
             "colorbar": {
              "outlinewidth": 0,
              "ticks": ""
             }
            },
            "marker": {
             "colorbar": {
              "outlinewidth": 0,
              "ticks": ""
             }
            },
            "type": "scatter3d"
           }
          ],
          "scattercarpet": [
           {
            "marker": {
             "colorbar": {
              "outlinewidth": 0,
              "ticks": ""
             }
            },
            "type": "scattercarpet"
           }
          ],
          "scattergeo": [
           {
            "marker": {
             "colorbar": {
              "outlinewidth": 0,
              "ticks": ""
             }
            },
            "type": "scattergeo"
           }
          ],
          "scattergl": [
           {
            "marker": {
             "colorbar": {
              "outlinewidth": 0,
              "ticks": ""
             }
            },
            "type": "scattergl"
           }
          ],
          "scattermapbox": [
           {
            "marker": {
             "colorbar": {
              "outlinewidth": 0,
              "ticks": ""
             }
            },
            "type": "scattermapbox"
           }
          ],
          "scatterpolar": [
           {
            "marker": {
             "colorbar": {
              "outlinewidth": 0,
              "ticks": ""
             }
            },
            "type": "scatterpolar"
           }
          ],
          "scatterpolargl": [
           {
            "marker": {
             "colorbar": {
              "outlinewidth": 0,
              "ticks": ""
             }
            },
            "type": "scatterpolargl"
           }
          ],
          "scatterternary": [
           {
            "marker": {
             "colorbar": {
              "outlinewidth": 0,
              "ticks": ""
             }
            },
            "type": "scatterternary"
           }
          ],
          "surface": [
           {
            "colorbar": {
             "outlinewidth": 0,
             "ticks": ""
            },
            "colorscale": [
             [
              0,
              "#0d0887"
             ],
             [
              0.1111111111111111,
              "#46039f"
             ],
             [
              0.2222222222222222,
              "#7201a8"
             ],
             [
              0.3333333333333333,
              "#9c179e"
             ],
             [
              0.4444444444444444,
              "#bd3786"
             ],
             [
              0.5555555555555556,
              "#d8576b"
             ],
             [
              0.6666666666666666,
              "#ed7953"
             ],
             [
              0.7777777777777778,
              "#fb9f3a"
             ],
             [
              0.8888888888888888,
              "#fdca26"
             ],
             [
              1,
              "#f0f921"
             ]
            ],
            "type": "surface"
           }
          ],
          "table": [
           {
            "cells": {
             "fill": {
              "color": "#EBF0F8"
             },
             "line": {
              "color": "white"
             }
            },
            "header": {
             "fill": {
              "color": "#C8D4E3"
             },
             "line": {
              "color": "white"
             }
            },
            "type": "table"
           }
          ]
         },
         "layout": {
          "annotationdefaults": {
           "arrowcolor": "#2a3f5f",
           "arrowhead": 0,
           "arrowwidth": 1
          },
          "autotypenumbers": "strict",
          "coloraxis": {
           "colorbar": {
            "outlinewidth": 0,
            "ticks": ""
           }
          },
          "colorscale": {
           "diverging": [
            [
             0,
             "#8e0152"
            ],
            [
             0.1,
             "#c51b7d"
            ],
            [
             0.2,
             "#de77ae"
            ],
            [
             0.3,
             "#f1b6da"
            ],
            [
             0.4,
             "#fde0ef"
            ],
            [
             0.5,
             "#f7f7f7"
            ],
            [
             0.6,
             "#e6f5d0"
            ],
            [
             0.7,
             "#b8e186"
            ],
            [
             0.8,
             "#7fbc41"
            ],
            [
             0.9,
             "#4d9221"
            ],
            [
             1,
             "#276419"
            ]
           ],
           "sequential": [
            [
             0,
             "#0d0887"
            ],
            [
             0.1111111111111111,
             "#46039f"
            ],
            [
             0.2222222222222222,
             "#7201a8"
            ],
            [
             0.3333333333333333,
             "#9c179e"
            ],
            [
             0.4444444444444444,
             "#bd3786"
            ],
            [
             0.5555555555555556,
             "#d8576b"
            ],
            [
             0.6666666666666666,
             "#ed7953"
            ],
            [
             0.7777777777777778,
             "#fb9f3a"
            ],
            [
             0.8888888888888888,
             "#fdca26"
            ],
            [
             1,
             "#f0f921"
            ]
           ],
           "sequentialminus": [
            [
             0,
             "#0d0887"
            ],
            [
             0.1111111111111111,
             "#46039f"
            ],
            [
             0.2222222222222222,
             "#7201a8"
            ],
            [
             0.3333333333333333,
             "#9c179e"
            ],
            [
             0.4444444444444444,
             "#bd3786"
            ],
            [
             0.5555555555555556,
             "#d8576b"
            ],
            [
             0.6666666666666666,
             "#ed7953"
            ],
            [
             0.7777777777777778,
             "#fb9f3a"
            ],
            [
             0.8888888888888888,
             "#fdca26"
            ],
            [
             1,
             "#f0f921"
            ]
           ]
          },
          "colorway": [
           "#636efa",
           "#EF553B",
           "#00cc96",
           "#ab63fa",
           "#FFA15A",
           "#19d3f3",
           "#FF6692",
           "#B6E880",
           "#FF97FF",
           "#FECB52"
          ],
          "font": {
           "color": "#2a3f5f"
          },
          "geo": {
           "bgcolor": "white",
           "lakecolor": "white",
           "landcolor": "#E5ECF6",
           "showlakes": true,
           "showland": true,
           "subunitcolor": "white"
          },
          "hoverlabel": {
           "align": "left"
          },
          "hovermode": "closest",
          "mapbox": {
           "style": "light"
          },
          "paper_bgcolor": "white",
          "plot_bgcolor": "#E5ECF6",
          "polar": {
           "angularaxis": {
            "gridcolor": "white",
            "linecolor": "white",
            "ticks": ""
           },
           "bgcolor": "#E5ECF6",
           "radialaxis": {
            "gridcolor": "white",
            "linecolor": "white",
            "ticks": ""
           }
          },
          "scene": {
           "xaxis": {
            "backgroundcolor": "#E5ECF6",
            "gridcolor": "white",
            "gridwidth": 2,
            "linecolor": "white",
            "showbackground": true,
            "ticks": "",
            "zerolinecolor": "white"
           },
           "yaxis": {
            "backgroundcolor": "#E5ECF6",
            "gridcolor": "white",
            "gridwidth": 2,
            "linecolor": "white",
            "showbackground": true,
            "ticks": "",
            "zerolinecolor": "white"
           },
           "zaxis": {
            "backgroundcolor": "#E5ECF6",
            "gridcolor": "white",
            "gridwidth": 2,
            "linecolor": "white",
            "showbackground": true,
            "ticks": "",
            "zerolinecolor": "white"
           }
          },
          "shapedefaults": {
           "line": {
            "color": "#2a3f5f"
           }
          },
          "ternary": {
           "aaxis": {
            "gridcolor": "white",
            "linecolor": "white",
            "ticks": ""
           },
           "baxis": {
            "gridcolor": "white",
            "linecolor": "white",
            "ticks": ""
           },
           "bgcolor": "#E5ECF6",
           "caxis": {
            "gridcolor": "white",
            "linecolor": "white",
            "ticks": ""
           }
          },
          "title": {
           "x": 0.05
          },
          "xaxis": {
           "automargin": true,
           "gridcolor": "white",
           "linecolor": "white",
           "ticks": "",
           "title": {
            "standoff": 15
           },
           "zerolinecolor": "white",
           "zerolinewidth": 2
          },
          "yaxis": {
           "automargin": true,
           "gridcolor": "white",
           "linecolor": "white",
           "ticks": "",
           "title": {
            "standoff": 15
           },
           "zerolinecolor": "white",
           "zerolinewidth": 2
          }
         }
        },
        "title": {
         "text": "Test"
        },
        "width": 960,
        "xaxis": {
         "anchor": "y",
         "domain": [
          0,
          0.2888888888888889
         ]
        },
        "xaxis2": {
         "anchor": "y2",
         "domain": [
          0.35555555555555557,
          0.6444444444444445
         ]
        },
        "xaxis3": {
         "anchor": "y3",
         "domain": [
          0.7111111111111111,
          1
         ]
        },
        "yaxis": {
         "anchor": "x",
         "domain": [
          0,
          1
         ]
        },
        "yaxis2": {
         "anchor": "x2",
         "domain": [
          0,
          1
         ]
        },
        "yaxis3": {
         "anchor": "x3",
         "domain": [
          0,
          1
         ]
        }
       }
      }
     },
     "metadata": {},
     "output_type": "display_data"
    }
   ],
   "source": [
    "fig = tripleGraph(acc_data[[\"ax\", \"ay\", \"az\"]])\n",
    "fig.write_html(\"data_analysis_acc_2.html\", full_html=False, include_plotlyjs=\"cdn\")\n",
    "fig.show()"
   ]
  }
 ],
 "metadata": {
  "kernelspec": {
   "display_name": "base",
   "language": "python",
   "name": "python3"
  },
  "language_info": {
   "codemirror_mode": {
    "name": "ipython",
    "version": 3
   },
   "file_extension": ".py",
   "mimetype": "text/x-python",
   "name": "python",
   "nbconvert_exporter": "python",
   "pygments_lexer": "ipython3",
   "version": "3.9.12"
  },
  "orig_nbformat": 4,
  "vscode": {
   "interpreter": {
    "hash": "60e99164659eb01783c8f561e8a597a048720cf8240e4ce5ecfbb52f98d8d756"
   }
  }
 },
 "nbformat": 4,
 "nbformat_minor": 2
}
