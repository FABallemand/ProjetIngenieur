{
 "cells": [
  {
   "attachments": {},
   "cell_type": "markdown",
   "metadata": {},
   "source": [
    "# Data Analysis"
   ]
  },
  {
   "cell_type": "code",
   "execution_count": 4,
   "metadata": {},
   "outputs": [],
   "source": [
    "import os\n",
    "import numpy as np\n",
    "import pandas as pd\n",
    "import matplotlib.pyplot as plt\n",
    "\n",
    "from fitparse import FitFile"
   ]
  },
  {
   "attachments": {},
   "cell_type": "markdown",
   "metadata": {},
   "source": [
    "## Load Data"
   ]
  },
  {
   "attachments": {},
   "cell_type": "markdown",
   "metadata": {},
   "source": [
    "### Find Files"
   ]
  },
  {
   "cell_type": "code",
   "execution_count": 7,
   "metadata": {},
   "outputs": [
    {
     "name": "stdout",
     "output_type": "stream",
     "text": [
      "collect data = OK\n"
     ]
    }
   ],
   "source": [
    "path = \"path_1\"\n",
    "acc_file = None\n",
    "gps_file = None\n",
    "for f in os.listdir(path):\n",
    "    if f.endswith(\".csv\"):\n",
    "        acc_file = f\n",
    "    if f.endswith(\".FIT\"):\n",
    "        gps_file = f\n",
    "\n",
    "# Acceleration data\n",
    "acc_data = pd.read_csv(path + \"/\" + acc_file, sep=\";\", header=1, names=[\"time\", \"ax\", \"ay\", \"az\", \"norm\"])\n",
    "\n",
    "# GPS data\n",
    "time = []\n",
    "alt = []\n",
    "lat = []\n",
    "long = []\n",
    "units = {\"alt\" : \"\", \"lat\": \"\", \"long\": \"\"}\n",
    "gps_fit_file = fitfile = FitFile(path + \"/\" + gps_file)\n",
    "for record in fitfile.get_messages('record'):\n",
    "    for record_data in record:\n",
    "        if record_data.name == \"timestamp\":\n",
    "            time.append(record_data.value)\n",
    "        if record_data.name == \"altitude\":\n",
    "            alt.append(record_data.value)\n",
    "            if units[\"alt\"] == \"\":\n",
    "                units[\"alt\"] = record_data.units\n",
    "        if record_data.name == \"position_lat\":\n",
    "            lat.append(record_data.value)\n",
    "            if units[\"lat\"] == \"\":\n",
    "                units[\"lat\"] = record_data.units\n",
    "        if record_data.name == \"position_long\":\n",
    "            long.append(record_data.value)\n",
    "            if units[\"long\"] == \"\":\n",
    "                units[\"long\"] = record_data.units\n",
    "gps_data = pd.DataFrame(list(zip(time, lat, long, alt)), columns= [\"time\", \"alt\", \"lat\", \"long\"])\n"
   ]
  },
  {
   "attachments": {},
   "cell_type": "markdown",
   "metadata": {},
   "source": [
    "## Acceleration Data"
   ]
  },
  {
   "cell_type": "code",
   "execution_count": 5,
   "metadata": {},
   "outputs": [
    {
     "data": {
      "text/html": [
       "<div>\n",
       "<style scoped>\n",
       "    .dataframe tbody tr th:only-of-type {\n",
       "        vertical-align: middle;\n",
       "    }\n",
       "\n",
       "    .dataframe tbody tr th {\n",
       "        vertical-align: top;\n",
       "    }\n",
       "\n",
       "    .dataframe thead th {\n",
       "        text-align: right;\n",
       "    }\n",
       "</style>\n",
       "<table border=\"1\" class=\"dataframe\">\n",
       "  <thead>\n",
       "    <tr style=\"text-align: right;\">\n",
       "      <th></th>\n",
       "      <th>time</th>\n",
       "      <th>ax</th>\n",
       "      <th>ay</th>\n",
       "      <th>az</th>\n",
       "      <th>norm</th>\n",
       "    </tr>\n",
       "  </thead>\n",
       "  <tbody>\n",
       "    <tr>\n",
       "      <th>0</th>\n",
       "      <td>11:41:59:3080</td>\n",
       "      <td>0,0578</td>\n",
       "      <td>0,4279</td>\n",
       "      <td>0,9532</td>\n",
       "      <td>1,046</td>\n",
       "    </tr>\n",
       "    <tr>\n",
       "      <th>1</th>\n",
       "      <td>11:41:59:3110</td>\n",
       "      <td>0,0640</td>\n",
       "      <td>0,4199</td>\n",
       "      <td>0,9443</td>\n",
       "      <td>1,035</td>\n",
       "    </tr>\n",
       "    <tr>\n",
       "      <th>2</th>\n",
       "      <td>11:41:59:3130</td>\n",
       "      <td>0,0734</td>\n",
       "      <td>0,4136</td>\n",
       "      <td>0,9332</td>\n",
       "      <td>1,023</td>\n",
       "    </tr>\n",
       "    <tr>\n",
       "      <th>3</th>\n",
       "      <td>11:41:59:3150</td>\n",
       "      <td>0,0761</td>\n",
       "      <td>0,4122</td>\n",
       "      <td>0,9277</td>\n",
       "      <td>1,017</td>\n",
       "    </tr>\n",
       "    <tr>\n",
       "      <th>4</th>\n",
       "      <td>11:41:59:3180</td>\n",
       "      <td>0,0715</td>\n",
       "      <td>0,4173</td>\n",
       "      <td>0,9261</td>\n",
       "      <td>1,018</td>\n",
       "    </tr>\n",
       "    <tr>\n",
       "      <th>...</th>\n",
       "      <td>...</td>\n",
       "      <td>...</td>\n",
       "      <td>...</td>\n",
       "      <td>...</td>\n",
       "      <td>...</td>\n",
       "    </tr>\n",
       "    <tr>\n",
       "      <th>29800</th>\n",
       "      <td>12:14:18:5010</td>\n",
       "      <td>0,0176</td>\n",
       "      <td>0,5329</td>\n",
       "      <td>0,8640</td>\n",
       "      <td>1,017</td>\n",
       "    </tr>\n",
       "    <tr>\n",
       "      <th>29801</th>\n",
       "      <td>12:14:18:5100</td>\n",
       "      <td>0,0177</td>\n",
       "      <td>0,5344</td>\n",
       "      <td>0,8529</td>\n",
       "      <td>1,008</td>\n",
       "    </tr>\n",
       "    <tr>\n",
       "      <th>29802</th>\n",
       "      <td>12:14:18:5140</td>\n",
       "      <td>0,0177</td>\n",
       "      <td>0,5307</td>\n",
       "      <td>0,8460</td>\n",
       "      <td>1,000</td>\n",
       "    </tr>\n",
       "    <tr>\n",
       "      <th>29803</th>\n",
       "      <td>12:14:18:5170</td>\n",
       "      <td>0,0195</td>\n",
       "      <td>0,5317</td>\n",
       "      <td>0,8454</td>\n",
       "      <td>1,000</td>\n",
       "    </tr>\n",
       "    <tr>\n",
       "      <th>29804</th>\n",
       "      <td>12:14:18:5210</td>\n",
       "      <td>0,0173</td>\n",
       "      <td>0,5364</td>\n",
       "      <td>0,8486</td>\n",
       "      <td>1,006</td>\n",
       "    </tr>\n",
       "  </tbody>\n",
       "</table>\n",
       "<p>29805 rows × 5 columns</p>\n",
       "</div>"
      ],
      "text/plain": [
       "                time      ax      ay      az   norm\n",
       "0      11:41:59:3080  0,0578  0,4279  0,9532  1,046\n",
       "1      11:41:59:3110  0,0640  0,4199  0,9443  1,035\n",
       "2      11:41:59:3130  0,0734  0,4136  0,9332  1,023\n",
       "3      11:41:59:3150  0,0761  0,4122  0,9277  1,017\n",
       "4      11:41:59:3180  0,0715  0,4173  0,9261  1,018\n",
       "...              ...     ...     ...     ...    ...\n",
       "29800  12:14:18:5010  0,0176  0,5329  0,8640  1,017\n",
       "29801  12:14:18:5100  0,0177  0,5344  0,8529  1,008\n",
       "29802  12:14:18:5140  0,0177  0,5307  0,8460  1,000\n",
       "29803  12:14:18:5170  0,0195  0,5317  0,8454  1,000\n",
       "29804  12:14:18:5210  0,0173  0,5364  0,8486  1,006\n",
       "\n",
       "[29805 rows x 5 columns]"
      ]
     },
     "execution_count": 5,
     "metadata": {},
     "output_type": "execute_result"
    }
   ],
   "source": [
    "acc_data"
   ]
  },
  {
   "cell_type": "code",
   "execution_count": 6,
   "metadata": {},
   "outputs": [
    {
     "data": {
      "text/html": [
       "<div>\n",
       "<style scoped>\n",
       "    .dataframe tbody tr th:only-of-type {\n",
       "        vertical-align: middle;\n",
       "    }\n",
       "\n",
       "    .dataframe tbody tr th {\n",
       "        vertical-align: top;\n",
       "    }\n",
       "\n",
       "    .dataframe thead th {\n",
       "        text-align: right;\n",
       "    }\n",
       "</style>\n",
       "<table border=\"1\" class=\"dataframe\">\n",
       "  <thead>\n",
       "    <tr style=\"text-align: right;\">\n",
       "      <th></th>\n",
       "      <th>time</th>\n",
       "      <th>ax</th>\n",
       "      <th>ay</th>\n",
       "      <th>az</th>\n",
       "      <th>norm</th>\n",
       "    </tr>\n",
       "  </thead>\n",
       "  <tbody>\n",
       "    <tr>\n",
       "      <th>count</th>\n",
       "      <td>29805</td>\n",
       "      <td>29805</td>\n",
       "      <td>29805</td>\n",
       "      <td>29805</td>\n",
       "      <td>29805</td>\n",
       "    </tr>\n",
       "    <tr>\n",
       "      <th>unique</th>\n",
       "      <td>29805</td>\n",
       "      <td>5109</td>\n",
       "      <td>5021</td>\n",
       "      <td>4865</td>\n",
       "      <td>830</td>\n",
       "    </tr>\n",
       "    <tr>\n",
       "      <th>top</th>\n",
       "      <td>11:41:59:3080</td>\n",
       "      <td>0,0433</td>\n",
       "      <td>0,0903</td>\n",
       "      <td>1,0095</td>\n",
       "      <td>1,018</td>\n",
       "    </tr>\n",
       "    <tr>\n",
       "      <th>freq</th>\n",
       "      <td>1</td>\n",
       "      <td>34</td>\n",
       "      <td>36</td>\n",
       "      <td>44</td>\n",
       "      <td>291</td>\n",
       "    </tr>\n",
       "  </tbody>\n",
       "</table>\n",
       "</div>"
      ],
      "text/plain": [
       "                 time      ax      ay      az   norm\n",
       "count           29805   29805   29805   29805  29805\n",
       "unique          29805    5109    5021    4865    830\n",
       "top     11:41:59:3080  0,0433  0,0903  1,0095  1,018\n",
       "freq                1      34      36      44    291"
      ]
     },
     "execution_count": 6,
     "metadata": {},
     "output_type": "execute_result"
    }
   ],
   "source": [
    "acc_data.describe()"
   ]
  },
  {
   "cell_type": "code",
   "execution_count": 12,
   "metadata": {},
   "outputs": [],
   "source": [
    "# acc_data.hist(column=\"ax\")"
   ]
  },
  {
   "cell_type": "code",
   "execution_count": 9,
   "metadata": {},
   "outputs": [
    {
     "data": {
      "text/plain": [
       "time    0\n",
       "ax      0\n",
       "ay      0\n",
       "az      0\n",
       "norm    0\n",
       "dtype: int64"
      ]
     },
     "execution_count": 9,
     "metadata": {},
     "output_type": "execute_result"
    }
   ],
   "source": [
    "acc_data.isna().sum()"
   ]
  },
  {
   "cell_type": "code",
   "execution_count": 10,
   "metadata": {},
   "outputs": [
    {
     "data": {
      "text/plain": [
       "Text(0.5, 1.0, 'Acceleration Z')"
      ]
     },
     "execution_count": 10,
     "metadata": {},
     "output_type": "execute_result"
    },
    {
     "data": {
      "image/png": "[encoded data removed]",
      "text/plain": [
       "<Figure size 864x288 with 3 Axes>"
      ]
     },
     "metadata": {
      "needs_background": "light"
     },
     "output_type": "display_data"
    }
   ],
   "source": [
    "nb_measure = acc_data.shape[0]\n",
    "\n",
    "fig, axs = plt.subplots(1,3)\n",
    "fig.set_tight_layout(True)\n",
    "fig.set_size_inches(12, 4)\n",
    "axs[0].plot(range(nb_measure), acc_data[\"ax\"])\n",
    "axs[0].set_title(\"Acceleration X\")\n",
    "axs[1].plot(range(nb_measure), acc_data[\"ay\"])\n",
    "axs[1].set_title(\"Acceleration Y\")\n",
    "axs[2].plot(range(nb_measure), acc_data[\"az\"])\n",
    "axs[2].set_title(\"Acceleration Z\")"
   ]
  },
  {
   "attachments": {},
   "cell_type": "markdown",
   "metadata": {},
   "source": [
    "## GPS Data"
   ]
  },
  {
   "cell_type": "code",
   "execution_count": 8,
   "metadata": {},
   "outputs": [
    {
     "data": {
      "text/html": [
       "<div>\n",
       "<style scoped>\n",
       "    .dataframe tbody tr th:only-of-type {\n",
       "        vertical-align: middle;\n",
       "    }\n",
       "\n",
       "    .dataframe tbody tr th {\n",
       "        vertical-align: top;\n",
       "    }\n",
       "\n",
       "    .dataframe thead th {\n",
       "        text-align: right;\n",
       "    }\n",
       "</style>\n",
       "<table border=\"1\" class=\"dataframe\">\n",
       "  <thead>\n",
       "    <tr style=\"text-align: right;\">\n",
       "      <th></th>\n",
       "      <th>time</th>\n",
       "      <th>alt</th>\n",
       "      <th>lat</th>\n",
       "      <th>long</th>\n",
       "    </tr>\n",
       "  </thead>\n",
       "  <tbody>\n",
       "    <tr>\n",
       "      <th>0</th>\n",
       "      <td>2023-02-28 10:42:06</td>\n",
       "      <td>577356964</td>\n",
       "      <td>88377545</td>\n",
       "      <td>268.6</td>\n",
       "    </tr>\n",
       "    <tr>\n",
       "      <th>1</th>\n",
       "      <td>2023-02-28 10:42:34</td>\n",
       "      <td>577357486</td>\n",
       "      <td>88377420</td>\n",
       "      <td>268.6</td>\n",
       "    </tr>\n",
       "    <tr>\n",
       "      <th>2</th>\n",
       "      <td>2023-02-28 10:42:35</td>\n",
       "      <td>577357763</td>\n",
       "      <td>88377537</td>\n",
       "      <td>268.6</td>\n",
       "    </tr>\n",
       "    <tr>\n",
       "      <th>3</th>\n",
       "      <td>2023-02-28 10:42:37</td>\n",
       "      <td>577358129</td>\n",
       "      <td>88377887</td>\n",
       "      <td>268.6</td>\n",
       "    </tr>\n",
       "    <tr>\n",
       "      <th>4</th>\n",
       "      <td>2023-02-28 10:42:39</td>\n",
       "      <td>577358339</td>\n",
       "      <td>88378530</td>\n",
       "      <td>268.6</td>\n",
       "    </tr>\n",
       "    <tr>\n",
       "      <th>...</th>\n",
       "      <td>...</td>\n",
       "      <td>...</td>\n",
       "      <td>...</td>\n",
       "      <td>...</td>\n",
       "    </tr>\n",
       "    <tr>\n",
       "      <th>1472</th>\n",
       "      <td>2023-02-28 11:13:35</td>\n",
       "      <td>579484766</td>\n",
       "      <td>92300223</td>\n",
       "      <td>149.0</td>\n",
       "    </tr>\n",
       "    <tr>\n",
       "      <th>1473</th>\n",
       "      <td>2023-02-28 11:13:42</td>\n",
       "      <td>579486097</td>\n",
       "      <td>92298746</td>\n",
       "      <td>148.0</td>\n",
       "    </tr>\n",
       "    <tr>\n",
       "      <th>1474</th>\n",
       "      <td>2023-02-28 11:13:45</td>\n",
       "      <td>579486428</td>\n",
       "      <td>92298822</td>\n",
       "      <td>148.0</td>\n",
       "    </tr>\n",
       "    <tr>\n",
       "      <th>1475</th>\n",
       "      <td>2023-02-28 11:13:55</td>\n",
       "      <td>579486542</td>\n",
       "      <td>92298621</td>\n",
       "      <td>148.0</td>\n",
       "    </tr>\n",
       "    <tr>\n",
       "      <th>1476</th>\n",
       "      <td>2023-02-28 11:14:04</td>\n",
       "      <td>579486542</td>\n",
       "      <td>92298621</td>\n",
       "      <td>148.2</td>\n",
       "    </tr>\n",
       "  </tbody>\n",
       "</table>\n",
       "<p>1477 rows × 4 columns</p>\n",
       "</div>"
      ],
      "text/plain": [
       "                    time        alt       lat   long\n",
       "0    2023-02-28 10:42:06  577356964  88377545  268.6\n",
       "1    2023-02-28 10:42:34  577357486  88377420  268.6\n",
       "2    2023-02-28 10:42:35  577357763  88377537  268.6\n",
       "3    2023-02-28 10:42:37  577358129  88377887  268.6\n",
       "4    2023-02-28 10:42:39  577358339  88378530  268.6\n",
       "...                  ...        ...       ...    ...\n",
       "1472 2023-02-28 11:13:35  579484766  92300223  149.0\n",
       "1473 2023-02-28 11:13:42  579486097  92298746  148.0\n",
       "1474 2023-02-28 11:13:45  579486428  92298822  148.0\n",
       "1475 2023-02-28 11:13:55  579486542  92298621  148.0\n",
       "1476 2023-02-28 11:14:04  579486542  92298621  148.2\n",
       "\n",
       "[1477 rows x 4 columns]"
      ]
     },
     "execution_count": 8,
     "metadata": {},
     "output_type": "execute_result"
    }
   ],
   "source": [
    "gps_data"
   ]
  },
  {
   "cell_type": "code",
   "execution_count": 9,
   "metadata": {},
   "outputs": [
    {
     "data": {
      "text/html": [
       "<div>\n",
       "<style scoped>\n",
       "    .dataframe tbody tr th:only-of-type {\n",
       "        vertical-align: middle;\n",
       "    }\n",
       "\n",
       "    .dataframe tbody tr th {\n",
       "        vertical-align: top;\n",
       "    }\n",
       "\n",
       "    .dataframe thead th {\n",
       "        text-align: right;\n",
       "    }\n",
       "</style>\n",
       "<table border=\"1\" class=\"dataframe\">\n",
       "  <thead>\n",
       "    <tr style=\"text-align: right;\">\n",
       "      <th></th>\n",
       "      <th>alt</th>\n",
       "      <th>lat</th>\n",
       "      <th>long</th>\n",
       "    </tr>\n",
       "  </thead>\n",
       "  <tbody>\n",
       "    <tr>\n",
       "      <th>count</th>\n",
       "      <td>1.477000e+03</td>\n",
       "      <td>1.477000e+03</td>\n",
       "      <td>1477.000000</td>\n",
       "    </tr>\n",
       "    <tr>\n",
       "      <th>mean</th>\n",
       "      <td>5.783931e+08</td>\n",
       "      <td>9.038763e+07</td>\n",
       "      <td>183.435206</td>\n",
       "    </tr>\n",
       "    <tr>\n",
       "      <th>std</th>\n",
       "      <td>7.228750e+05</td>\n",
       "      <td>1.246278e+06</td>\n",
       "      <td>28.159797</td>\n",
       "    </tr>\n",
       "    <tr>\n",
       "      <th>min</th>\n",
       "      <td>5.772696e+08</td>\n",
       "      <td>8.837742e+07</td>\n",
       "      <td>148.000000</td>\n",
       "    </tr>\n",
       "    <tr>\n",
       "      <th>25%</th>\n",
       "      <td>5.776565e+08</td>\n",
       "      <td>8.929622e+07</td>\n",
       "      <td>162.200000</td>\n",
       "    </tr>\n",
       "    <tr>\n",
       "      <th>50%</th>\n",
       "      <td>5.786026e+08</td>\n",
       "      <td>9.022086e+07</td>\n",
       "      <td>177.200000</td>\n",
       "    </tr>\n",
       "    <tr>\n",
       "      <th>75%</th>\n",
       "      <td>5.789447e+08</td>\n",
       "      <td>9.157494e+07</td>\n",
       "      <td>192.400000</td>\n",
       "    </tr>\n",
       "    <tr>\n",
       "      <th>max</th>\n",
       "      <td>5.794865e+08</td>\n",
       "      <td>9.232943e+07</td>\n",
       "      <td>268.600000</td>\n",
       "    </tr>\n",
       "  </tbody>\n",
       "</table>\n",
       "</div>"
      ],
      "text/plain": [
       "                alt           lat         long\n",
       "count  1.477000e+03  1.477000e+03  1477.000000\n",
       "mean   5.783931e+08  9.038763e+07   183.435206\n",
       "std    7.228750e+05  1.246278e+06    28.159797\n",
       "min    5.772696e+08  8.837742e+07   148.000000\n",
       "25%    5.776565e+08  8.929622e+07   162.200000\n",
       "50%    5.786026e+08  9.022086e+07   177.200000\n",
       "75%    5.789447e+08  9.157494e+07   192.400000\n",
       "max    5.794865e+08  9.232943e+07   268.600000"
      ]
     },
     "execution_count": 9,
     "metadata": {},
     "output_type": "execute_result"
    }
   ],
   "source": [
    "gps_data.describe()"
   ]
  },
  {
   "cell_type": "code",
   "execution_count": 10,
   "metadata": {},
   "outputs": [
    {
     "data": {
      "text/plain": [
       "time    0\n",
       "alt     0\n",
       "lat     0\n",
       "long    0\n",
       "dtype: int64"
      ]
     },
     "execution_count": 10,
     "metadata": {},
     "output_type": "execute_result"
    }
   ],
   "source": [
    "gps_data.isna().sum()"
   ]
  }
 ],
 "metadata": {
  "kernelspec": {
   "display_name": "base",
   "language": "python",
   "name": "python3"
  },
  "language_info": {
   "codemirror_mode": {
    "name": "ipython",
    "version": 3
   },
   "file_extension": ".py",
   "mimetype": "text/x-python",
   "name": "python",
   "nbconvert_exporter": "python",
   "pygments_lexer": "ipython3",
   "version": "3.9.12"
  },
  "orig_nbformat": 4,
  "vscode": {
   "interpreter": {
    "hash": "60e99164659eb01783c8f561e8a597a048720cf8240e4ce5ecfbb52f98d8d756"
   }
  }
 },
 "nbformat": 4,
 "nbformat_minor": 2
}
